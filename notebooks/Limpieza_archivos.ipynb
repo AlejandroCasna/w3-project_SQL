{
 "cells": [
  {
   "cell_type": "code",
   "execution_count": 1,
   "id": "57c52019",
   "metadata": {},
   "outputs": [],
   "source": [
    "import pandas as pd\n",
    "pd.set_option('display.max_columns', None)\n",
    "import warnings\n",
    "warnings.filterwarnings(\"ignore\")\n",
    "import numpy as dp\n",
    "\n",
    "from sqlalchemy import create_engine\n",
    "\n",
    "import random\n",
    "from faker import Faker\n",
    "fake = Faker()"
   ]
  },
  {
   "cell_type": "markdown",
   "id": "048f09d8",
   "metadata": {},
   "source": [
    "# Actor.csv"
   ]
  },
  {
   "cell_type": "code",
   "execution_count": 12,
   "id": "49261d4d",
   "metadata": {},
   "outputs": [],
   "source": [
    "actores = pd.read_csv(\"C:/ironhack/w3-project_SQL/data/data_sucio/actor.csv\", encoding='latin1') # Cargamos el csv actor"
   ]
  },
  {
   "cell_type": "code",
   "execution_count": 4,
   "id": "7b35d8d9",
   "metadata": {},
   "outputs": [
    {
     "name": "stdout",
     "output_type": "stream",
     "text": [
      "<class 'pandas.core.frame.DataFrame'>\n",
      "RangeIndex: 200 entries, 0 to 199\n",
      "Data columns (total 4 columns):\n",
      " #   Column       Non-Null Count  Dtype \n",
      "---  ------       --------------  ----- \n",
      " 0   actor_id     200 non-null    int64 \n",
      " 1   first_name   200 non-null    object\n",
      " 2   last_name    200 non-null    object\n",
      " 3   last_update  200 non-null    object\n",
      "dtypes: int64(1), object(3)\n",
      "memory usage: 41.0 KB\n"
     ]
    }
   ],
   "source": [
    "actores.info(memory_usage='deep') # Verificamos la informacion general del DF.\n",
    "                                  # Tamañano del DF(200 filas/4 columnas)"
   ]
  },
  {
   "cell_type": "code",
   "execution_count": 5,
   "id": "d4fd9d6d",
   "metadata": {},
   "outputs": [
    {
     "data": {
      "text/html": [
       "<div>\n",
       "<style scoped>\n",
       "    .dataframe tbody tr th:only-of-type {\n",
       "        vertical-align: middle;\n",
       "    }\n",
       "\n",
       "    .dataframe tbody tr th {\n",
       "        vertical-align: top;\n",
       "    }\n",
       "\n",
       "    .dataframe thead th {\n",
       "        text-align: right;\n",
       "    }\n",
       "</style>\n",
       "<table border=\"1\" class=\"dataframe\">\n",
       "  <thead>\n",
       "    <tr style=\"text-align: right;\">\n",
       "      <th></th>\n",
       "      <th>actor_id</th>\n",
       "      <th>first_name</th>\n",
       "      <th>last_name</th>\n",
       "      <th>last_update</th>\n",
       "    </tr>\n",
       "  </thead>\n",
       "  <tbody>\n",
       "    <tr>\n",
       "      <th>0</th>\n",
       "      <td>1</td>\n",
       "      <td>PENELOPE</td>\n",
       "      <td>GUINESS</td>\n",
       "      <td>2006-02-15 04:34:33</td>\n",
       "    </tr>\n",
       "    <tr>\n",
       "      <th>1</th>\n",
       "      <td>2</td>\n",
       "      <td>NICK</td>\n",
       "      <td>WAHLBERG</td>\n",
       "      <td>2006-02-15 04:34:33</td>\n",
       "    </tr>\n",
       "    <tr>\n",
       "      <th>2</th>\n",
       "      <td>3</td>\n",
       "      <td>ED</td>\n",
       "      <td>CHASE</td>\n",
       "      <td>2006-02-15 04:34:33</td>\n",
       "    </tr>\n",
       "  </tbody>\n",
       "</table>\n",
       "</div>"
      ],
      "text/plain": [
       "   actor_id first_name last_name          last_update\n",
       "0         1   PENELOPE   GUINESS  2006-02-15 04:34:33\n",
       "1         2       NICK  WAHLBERG  2006-02-15 04:34:33\n",
       "2         3         ED     CHASE  2006-02-15 04:34:33"
      ]
     },
     "execution_count": 5,
     "metadata": {},
     "output_type": "execute_result"
    }
   ],
   "source": [
    "actores.head(3)"
   ]
  },
  {
   "cell_type": "code",
   "execution_count": 6,
   "id": "da24f789",
   "metadata": {},
   "outputs": [
    {
     "data": {
      "text/html": [
       "<div>\n",
       "<style scoped>\n",
       "    .dataframe tbody tr th:only-of-type {\n",
       "        vertical-align: middle;\n",
       "    }\n",
       "\n",
       "    .dataframe tbody tr th {\n",
       "        vertical-align: top;\n",
       "    }\n",
       "\n",
       "    .dataframe thead th {\n",
       "        text-align: right;\n",
       "    }\n",
       "</style>\n",
       "<table border=\"1\" class=\"dataframe\">\n",
       "  <thead>\n",
       "    <tr style=\"text-align: right;\">\n",
       "      <th></th>\n",
       "      <th>actor_id</th>\n",
       "      <th>first_name</th>\n",
       "      <th>last_name</th>\n",
       "      <th>last_update</th>\n",
       "    </tr>\n",
       "  </thead>\n",
       "  <tbody>\n",
       "    <tr>\n",
       "      <th>0</th>\n",
       "      <td>1</td>\n",
       "      <td>Penelope</td>\n",
       "      <td>Guiness</td>\n",
       "      <td>2006-02-15 04:34:33</td>\n",
       "    </tr>\n",
       "    <tr>\n",
       "      <th>1</th>\n",
       "      <td>2</td>\n",
       "      <td>Nick</td>\n",
       "      <td>Wahlberg</td>\n",
       "      <td>2006-02-15 04:34:33</td>\n",
       "    </tr>\n",
       "    <tr>\n",
       "      <th>2</th>\n",
       "      <td>3</td>\n",
       "      <td>Ed</td>\n",
       "      <td>Chase</td>\n",
       "      <td>2006-02-15 04:34:33</td>\n",
       "    </tr>\n",
       "  </tbody>\n",
       "</table>\n",
       "</div>"
      ],
      "text/plain": [
       "   actor_id first_name last_name          last_update\n",
       "0         1   Penelope   Guiness  2006-02-15 04:34:33\n",
       "1         2       Nick  Wahlberg  2006-02-15 04:34:33\n",
       "2         3         Ed     Chase  2006-02-15 04:34:33"
      ]
     },
     "execution_count": 6,
     "metadata": {},
     "output_type": "execute_result"
    }
   ],
   "source": [
    "actores['first_name'] = actores['first_name'].str.capitalize() # Capitalizamos las columnas nombre.\n",
    "actores['last_name'] = actores['last_name'].str.capitalize() #Capitalizamos las columnas apellido.\n",
    "actores.head(3)"
   ]
  },
  {
   "cell_type": "code",
   "execution_count": 7,
   "id": "26a9a5f3",
   "metadata": {},
   "outputs": [
    {
     "data": {
      "text/plain": [
       "array([False,  True])"
      ]
     },
     "execution_count": 7,
     "metadata": {},
     "output_type": "execute_result"
    }
   ],
   "source": [
    "(actores.duplicated([\"first_name\",\"last_name\"])).unique() # Verificamos que hay duplicados'True'. "
   ]
  },
  {
   "cell_type": "code",
   "execution_count": 8,
   "id": "7991dc84",
   "metadata": {},
   "outputs": [
    {
     "data": {
      "text/plain": [
       "109"
      ]
     },
     "execution_count": 8,
     "metadata": {},
     "output_type": "execute_result"
    }
   ],
   "source": [
    "(actores.duplicated([\"first_name\",\"last_name\"])).idxmax() # Verificamos su indice."
   ]
  },
  {
   "cell_type": "code",
   "execution_count": 9,
   "id": "fc86f9c2",
   "metadata": {},
   "outputs": [],
   "source": [
    "actores.drop([109], inplace= True) # Eliminamos duplicado segun su indice."
   ]
  },
  {
   "cell_type": "code",
   "execution_count": 10,
   "id": "feb05973",
   "metadata": {},
   "outputs": [
    {
     "data": {
      "text/plain": [
       "array([False])"
      ]
     },
     "execution_count": 10,
     "metadata": {},
     "output_type": "execute_result"
    }
   ],
   "source": [
    "(actores.duplicated([\"first_name\",\"last_name\"])).unique() # Volvemos a verificar si hay duplicados."
   ]
  },
  {
   "cell_type": "code",
   "execution_count": 11,
   "id": "439f3614",
   "metadata": {},
   "outputs": [
    {
     "data": {
      "text/html": [
       "<div>\n",
       "<style scoped>\n",
       "    .dataframe tbody tr th:only-of-type {\n",
       "        vertical-align: middle;\n",
       "    }\n",
       "\n",
       "    .dataframe tbody tr th {\n",
       "        vertical-align: top;\n",
       "    }\n",
       "\n",
       "    .dataframe thead th {\n",
       "        text-align: right;\n",
       "    }\n",
       "</style>\n",
       "<table border=\"1\" class=\"dataframe\">\n",
       "  <thead>\n",
       "    <tr style=\"text-align: right;\">\n",
       "      <th></th>\n",
       "      <th>actor_id</th>\n",
       "      <th>first_name</th>\n",
       "      <th>last_name</th>\n",
       "      <th>last_update</th>\n",
       "    </tr>\n",
       "  </thead>\n",
       "  <tbody>\n",
       "    <tr>\n",
       "      <th>107</th>\n",
       "      <td>108</td>\n",
       "      <td>Warren</td>\n",
       "      <td>Nolte</td>\n",
       "      <td>2006-02-15 04:34:33</td>\n",
       "    </tr>\n",
       "    <tr>\n",
       "      <th>108</th>\n",
       "      <td>109</td>\n",
       "      <td>Sylvester</td>\n",
       "      <td>Dern</td>\n",
       "      <td>2006-02-15 04:34:33</td>\n",
       "    </tr>\n",
       "    <tr>\n",
       "      <th>110</th>\n",
       "      <td>111</td>\n",
       "      <td>Cameron</td>\n",
       "      <td>Zellweger</td>\n",
       "      <td>2006-02-15 04:34:33</td>\n",
       "    </tr>\n",
       "    <tr>\n",
       "      <th>111</th>\n",
       "      <td>112</td>\n",
       "      <td>Russell</td>\n",
       "      <td>Bacall</td>\n",
       "      <td>2006-02-15 04:34:33</td>\n",
       "    </tr>\n",
       "  </tbody>\n",
       "</table>\n",
       "</div>"
      ],
      "text/plain": [
       "     actor_id first_name  last_name          last_update\n",
       "107       108     Warren      Nolte  2006-02-15 04:34:33\n",
       "108       109  Sylvester       Dern  2006-02-15 04:34:33\n",
       "110       111    Cameron  Zellweger  2006-02-15 04:34:33\n",
       "111       112    Russell     Bacall  2006-02-15 04:34:33"
      ]
     },
     "execution_count": 11,
     "metadata": {},
     "output_type": "execute_result"
    }
   ],
   "source": [
    "actores.iloc[107:111] # Verificamos que tenemos un salto de numeracion debido a la eliminacion del duplicado."
   ]
  },
  {
   "cell_type": "code",
   "execution_count": 12,
   "id": "1cffb3e4",
   "metadata": {},
   "outputs": [
    {
     "data": {
      "text/html": [
       "<div>\n",
       "<style scoped>\n",
       "    .dataframe tbody tr th:only-of-type {\n",
       "        vertical-align: middle;\n",
       "    }\n",
       "\n",
       "    .dataframe tbody tr th {\n",
       "        vertical-align: top;\n",
       "    }\n",
       "\n",
       "    .dataframe thead th {\n",
       "        text-align: right;\n",
       "    }\n",
       "</style>\n",
       "<table border=\"1\" class=\"dataframe\">\n",
       "  <thead>\n",
       "    <tr style=\"text-align: right;\">\n",
       "      <th></th>\n",
       "      <th>actor_id</th>\n",
       "      <th>first_name</th>\n",
       "      <th>last_name</th>\n",
       "      <th>last_update</th>\n",
       "    </tr>\n",
       "  </thead>\n",
       "  <tbody>\n",
       "    <tr>\n",
       "      <th>107</th>\n",
       "      <td>107</td>\n",
       "      <td>Warren</td>\n",
       "      <td>Nolte</td>\n",
       "      <td>2006-02-15 04:34:33</td>\n",
       "    </tr>\n",
       "    <tr>\n",
       "      <th>108</th>\n",
       "      <td>108</td>\n",
       "      <td>Sylvester</td>\n",
       "      <td>Dern</td>\n",
       "      <td>2006-02-15 04:34:33</td>\n",
       "    </tr>\n",
       "    <tr>\n",
       "      <th>109</th>\n",
       "      <td>109</td>\n",
       "      <td>Cameron</td>\n",
       "      <td>Zellweger</td>\n",
       "      <td>2006-02-15 04:34:33</td>\n",
       "    </tr>\n",
       "    <tr>\n",
       "      <th>110</th>\n",
       "      <td>110</td>\n",
       "      <td>Russell</td>\n",
       "      <td>Bacall</td>\n",
       "      <td>2006-02-15 04:34:33</td>\n",
       "    </tr>\n",
       "  </tbody>\n",
       "</table>\n",
       "</div>"
      ],
      "text/plain": [
       "     actor_id first_name  last_name          last_update\n",
       "107       107     Warren      Nolte  2006-02-15 04:34:33\n",
       "108       108  Sylvester       Dern  2006-02-15 04:34:33\n",
       "109       109    Cameron  Zellweger  2006-02-15 04:34:33\n",
       "110       110    Russell     Bacall  2006-02-15 04:34:33"
      ]
     },
     "execution_count": 12,
     "metadata": {},
     "output_type": "execute_result"
    }
   ],
   "source": [
    "actores = actores.reset_index(drop=True) # Reseteamos el indice.\n",
    "actores['actor_id'] = range(len(actores)) # Reseteamos la numeracion de 'actor_id'\n",
    "actores.iloc[107:111] # Verificamos"
   ]
  },
  {
   "cell_type": "code",
   "execution_count": 13,
   "id": "618269b8",
   "metadata": {},
   "outputs": [],
   "source": [
    "actores.drop(columns =['last_update'],inplace=True) # eliminamos la columna last_update."
   ]
  },
  {
   "cell_type": "code",
   "execution_count": 14,
   "id": "9bd36acd",
   "metadata": {},
   "outputs": [],
   "source": [
    "actores['Edad'] = [random.randint(18, 45) for _ in range(len(actores))] # Creamos una columna con edad aleatoria."
   ]
  },
  {
   "cell_type": "code",
   "execution_count": 15,
   "id": "0039c0ea",
   "metadata": {},
   "outputs": [
    {
     "name": "stdout",
     "output_type": "stream",
     "text": [
      "<class 'pandas.core.frame.DataFrame'>\n",
      "RangeIndex: 199 entries, 0 to 198\n",
      "Data columns (total 4 columns):\n",
      " #   Column      Non-Null Count  Dtype   \n",
      "---  ------      --------------  -----   \n",
      " 0   actor_id    199 non-null    int16   \n",
      " 1   first_name  199 non-null    category\n",
      " 2   last_name   199 non-null    category\n",
      " 3   Edad        199 non-null    int8    \n",
      "dtypes: category(2), int16(1), int8(1)\n",
      "memory usage: 24.7 KB\n"
     ]
    }
   ],
   "source": [
    "# cambiamos el Dtype de cada columna para optimizar la memoria.\n",
    "\n",
    "\n",
    "for c in actores.select_dtypes(include='object'):\n",
    "    \n",
    "    actores[c] = actores[c].astype('category') \n",
    "    \n",
    "    \n",
    "for c in actores.select_dtypes(include='integer'):\n",
    "    \n",
    "    actores[c]=pd.to_numeric(actores[c], downcast='integer')\n",
    "    \n",
    "    \n",
    "actores.info(memory_usage='deep') # Verificamos la informacion general del DF.\n",
    "                                  # Tamañano del DF(199 filas/4 columnas)"
   ]
  },
  {
   "cell_type": "markdown",
   "id": "5f0ac227",
   "metadata": {},
   "source": [
    "# Category.csv"
   ]
  },
  {
   "cell_type": "code",
   "execution_count": 13,
   "id": "56f00b09",
   "metadata": {},
   "outputs": [],
   "source": [
    "categoria =pd.read_csv(\"C:/ironhack/w3-project_SQL/data/data_sucio/category.csv\",encoding='latin1') # Cargamos el csv category"
   ]
  },
  {
   "cell_type": "code",
   "execution_count": 17,
   "id": "d3061cde",
   "metadata": {},
   "outputs": [
    {
     "name": "stdout",
     "output_type": "stream",
     "text": [
      "<class 'pandas.core.frame.DataFrame'>\n",
      "RangeIndex: 16 entries, 0 to 15\n",
      "Data columns (total 3 columns):\n",
      " #   Column       Non-Null Count  Dtype \n",
      "---  ------       --------------  ----- \n",
      " 0   category_id  16 non-null     int64 \n",
      " 1   name         16 non-null     object\n",
      " 2   last_update  16 non-null     object\n",
      "dtypes: int64(1), object(2)\n",
      "memory usage: 2.4 KB\n"
     ]
    }
   ],
   "source": [
    "categoria.info(memory_usage='deep') # Verificamos la informacion general del DF.\n",
    "                                    # Tamañano del DF(16 filas/3 columnas)"
   ]
  },
  {
   "cell_type": "code",
   "execution_count": 18,
   "id": "e72ff758",
   "metadata": {},
   "outputs": [
    {
     "data": {
      "text/html": [
       "<div>\n",
       "<style scoped>\n",
       "    .dataframe tbody tr th:only-of-type {\n",
       "        vertical-align: middle;\n",
       "    }\n",
       "\n",
       "    .dataframe tbody tr th {\n",
       "        vertical-align: top;\n",
       "    }\n",
       "\n",
       "    .dataframe thead th {\n",
       "        text-align: right;\n",
       "    }\n",
       "</style>\n",
       "<table border=\"1\" class=\"dataframe\">\n",
       "  <thead>\n",
       "    <tr style=\"text-align: right;\">\n",
       "      <th></th>\n",
       "      <th>category_id</th>\n",
       "      <th>name</th>\n",
       "      <th>last_update</th>\n",
       "    </tr>\n",
       "  </thead>\n",
       "  <tbody>\n",
       "    <tr>\n",
       "      <th>0</th>\n",
       "      <td>1</td>\n",
       "      <td>Action</td>\n",
       "      <td>2006-02-15 04:46:27</td>\n",
       "    </tr>\n",
       "  </tbody>\n",
       "</table>\n",
       "</div>"
      ],
      "text/plain": [
       "   category_id    name          last_update\n",
       "0            1  Action  2006-02-15 04:46:27"
      ]
     },
     "execution_count": 18,
     "metadata": {},
     "output_type": "execute_result"
    }
   ],
   "source": [
    "categoria.head(1)"
   ]
  },
  {
   "cell_type": "code",
   "execution_count": 19,
   "id": "559e7f70",
   "metadata": {},
   "outputs": [],
   "source": [
    "categoria.drop(columns =['last_update'],inplace=True) # eliminamos la columna last_update."
   ]
  },
  {
   "cell_type": "code",
   "execution_count": 20,
   "id": "32dff00e",
   "metadata": {},
   "outputs": [
    {
     "data": {
      "text/html": [
       "<div>\n",
       "<style scoped>\n",
       "    .dataframe tbody tr th:only-of-type {\n",
       "        vertical-align: middle;\n",
       "    }\n",
       "\n",
       "    .dataframe tbody tr th {\n",
       "        vertical-align: top;\n",
       "    }\n",
       "\n",
       "    .dataframe thead th {\n",
       "        text-align: right;\n",
       "    }\n",
       "</style>\n",
       "<table border=\"1\" class=\"dataframe\">\n",
       "  <thead>\n",
       "    <tr style=\"text-align: right;\">\n",
       "      <th></th>\n",
       "      <th>category_id</th>\n",
       "      <th>name</th>\n",
       "    </tr>\n",
       "  </thead>\n",
       "  <tbody>\n",
       "    <tr>\n",
       "      <th>0</th>\n",
       "      <td>1</td>\n",
       "      <td>Action</td>\n",
       "    </tr>\n",
       "    <tr>\n",
       "      <th>1</th>\n",
       "      <td>2</td>\n",
       "      <td>Animation</td>\n",
       "    </tr>\n",
       "    <tr>\n",
       "      <th>2</th>\n",
       "      <td>3</td>\n",
       "      <td>Children</td>\n",
       "    </tr>\n",
       "    <tr>\n",
       "      <th>3</th>\n",
       "      <td>4</td>\n",
       "      <td>Classics</td>\n",
       "    </tr>\n",
       "    <tr>\n",
       "      <th>4</th>\n",
       "      <td>5</td>\n",
       "      <td>Comedy</td>\n",
       "    </tr>\n",
       "    <tr>\n",
       "      <th>5</th>\n",
       "      <td>6</td>\n",
       "      <td>Documentary</td>\n",
       "    </tr>\n",
       "    <tr>\n",
       "      <th>6</th>\n",
       "      <td>7</td>\n",
       "      <td>Drama</td>\n",
       "    </tr>\n",
       "    <tr>\n",
       "      <th>7</th>\n",
       "      <td>8</td>\n",
       "      <td>Family</td>\n",
       "    </tr>\n",
       "    <tr>\n",
       "      <th>8</th>\n",
       "      <td>9</td>\n",
       "      <td>Foreign</td>\n",
       "    </tr>\n",
       "    <tr>\n",
       "      <th>9</th>\n",
       "      <td>10</td>\n",
       "      <td>Games</td>\n",
       "    </tr>\n",
       "    <tr>\n",
       "      <th>10</th>\n",
       "      <td>11</td>\n",
       "      <td>Horror</td>\n",
       "    </tr>\n",
       "    <tr>\n",
       "      <th>11</th>\n",
       "      <td>12</td>\n",
       "      <td>Music</td>\n",
       "    </tr>\n",
       "    <tr>\n",
       "      <th>12</th>\n",
       "      <td>13</td>\n",
       "      <td>New</td>\n",
       "    </tr>\n",
       "    <tr>\n",
       "      <th>13</th>\n",
       "      <td>14</td>\n",
       "      <td>Sci-Fi</td>\n",
       "    </tr>\n",
       "    <tr>\n",
       "      <th>14</th>\n",
       "      <td>15</td>\n",
       "      <td>Sports</td>\n",
       "    </tr>\n",
       "    <tr>\n",
       "      <th>15</th>\n",
       "      <td>16</td>\n",
       "      <td>Travel</td>\n",
       "    </tr>\n",
       "  </tbody>\n",
       "</table>\n",
       "</div>"
      ],
      "text/plain": [
       "    category_id         name\n",
       "0             1       Action\n",
       "1             2    Animation\n",
       "2             3     Children\n",
       "3             4     Classics\n",
       "4             5       Comedy\n",
       "5             6  Documentary\n",
       "6             7        Drama\n",
       "7             8       Family\n",
       "8             9      Foreign\n",
       "9            10        Games\n",
       "10           11       Horror\n",
       "11           12        Music\n",
       "12           13          New\n",
       "13           14       Sci-Fi\n",
       "14           15       Sports\n",
       "15           16       Travel"
      ]
     },
     "execution_count": 20,
     "metadata": {},
     "output_type": "execute_result"
    }
   ],
   "source": [
    "categoria.head(17)"
   ]
  },
  {
   "cell_type": "code",
   "execution_count": 21,
   "id": "c8e26f73",
   "metadata": {},
   "outputs": [],
   "source": [
    "nueva_fila = {'category_id': 17, 'name': 'Unknow'} # agrege una fila nueva por necesidad de cruce con peliculas.\n",
    "categoria = categoria.append(nueva_fila, ignore_index=True)"
   ]
  },
  {
   "cell_type": "code",
   "execution_count": 22,
   "id": "5ceb2587",
   "metadata": {},
   "outputs": [
    {
     "data": {
      "text/plain": [
       "False"
      ]
     },
     "execution_count": 22,
     "metadata": {},
     "output_type": "execute_result"
    }
   ],
   "source": [
    "categoria.duplicated('name').any() # Verificamos si hay filas duplicadas"
   ]
  },
  {
   "cell_type": "code",
   "execution_count": 23,
   "id": "7e504609",
   "metadata": {},
   "outputs": [
    {
     "name": "stdout",
     "output_type": "stream",
     "text": [
      "<class 'pandas.core.frame.DataFrame'>\n",
      "RangeIndex: 17 entries, 0 to 16\n",
      "Data columns (total 2 columns):\n",
      " #   Column       Non-Null Count  Dtype   \n",
      "---  ------       --------------  -----   \n",
      " 0   category_id  17 non-null     int8    \n",
      " 1   name         17 non-null     category\n",
      "dtypes: category(1), int8(1)\n",
      "memory usage: 1.8 KB\n"
     ]
    }
   ],
   "source": [
    "# cambiamos el Dtype de cada columna para optimizar la memoria.\n",
    "\n",
    "for c in categoria.select_dtypes(include='object'):\n",
    "    \n",
    "    categoria[c] = categoria[c].astype('category') \n",
    "    \n",
    "    \n",
    "for c in categoria.select_dtypes(include='integer'):\n",
    "    \n",
    "    categoria[c]=pd.to_numeric(categoria[c], downcast='integer')\n",
    "\n",
    "categoria.info(memory_usage='deep') # Verificamos la informacion general del DF.\n",
    "                                    # Tamañano del DF(16 filas/3 columnas)"
   ]
  },
  {
   "cell_type": "markdown",
   "id": "ad34f263",
   "metadata": {},
   "source": [
    "# Film.csv"
   ]
  },
  {
   "cell_type": "code",
   "execution_count": 14,
   "id": "930fbca4",
   "metadata": {},
   "outputs": [],
   "source": [
    "peli =pd.read_csv(\"C:/ironhack/w3-project_SQL/data/data_sucio/film.csv\",encoding='latin1') # Cargamos el csv film"
   ]
  },
  {
   "cell_type": "code",
   "execution_count": 25,
   "id": "0c63b279",
   "metadata": {},
   "outputs": [
    {
     "data": {
      "text/html": [
       "<div>\n",
       "<style scoped>\n",
       "    .dataframe tbody tr th:only-of-type {\n",
       "        vertical-align: middle;\n",
       "    }\n",
       "\n",
       "    .dataframe tbody tr th {\n",
       "        vertical-align: top;\n",
       "    }\n",
       "\n",
       "    .dataframe thead th {\n",
       "        text-align: right;\n",
       "    }\n",
       "</style>\n",
       "<table border=\"1\" class=\"dataframe\">\n",
       "  <thead>\n",
       "    <tr style=\"text-align: right;\">\n",
       "      <th></th>\n",
       "      <th>film_id</th>\n",
       "      <th>title</th>\n",
       "      <th>description</th>\n",
       "      <th>release_year</th>\n",
       "      <th>language_id</th>\n",
       "      <th>original_language_id</th>\n",
       "      <th>rental_duration</th>\n",
       "      <th>rental_rate</th>\n",
       "      <th>length</th>\n",
       "      <th>replacement_cost</th>\n",
       "      <th>rating</th>\n",
       "      <th>special_features</th>\n",
       "      <th>last_update</th>\n",
       "    </tr>\n",
       "  </thead>\n",
       "  <tbody>\n",
       "    <tr>\n",
       "      <th>0</th>\n",
       "      <td>1</td>\n",
       "      <td>ACADEMY DINOSAUR</td>\n",
       "      <td>A Epic Drama of a Feminist And a Mad Scientist...</td>\n",
       "      <td>2006</td>\n",
       "      <td>1</td>\n",
       "      <td>NaN</td>\n",
       "      <td>6</td>\n",
       "      <td>0.99</td>\n",
       "      <td>86</td>\n",
       "      <td>20.99</td>\n",
       "      <td>PG</td>\n",
       "      <td>Deleted Scenes,Behind the Scenes</td>\n",
       "      <td>2006-02-15 05:03:42</td>\n",
       "    </tr>\n",
       "    <tr>\n",
       "      <th>1</th>\n",
       "      <td>2</td>\n",
       "      <td>ACE GOLDFINGER</td>\n",
       "      <td>A Astounding Epistle of a Database Administrat...</td>\n",
       "      <td>2006</td>\n",
       "      <td>1</td>\n",
       "      <td>NaN</td>\n",
       "      <td>3</td>\n",
       "      <td>4.99</td>\n",
       "      <td>48</td>\n",
       "      <td>12.99</td>\n",
       "      <td>G</td>\n",
       "      <td>Trailers,Deleted Scenes</td>\n",
       "      <td>2006-02-15 05:03:42</td>\n",
       "    </tr>\n",
       "    <tr>\n",
       "      <th>2</th>\n",
       "      <td>3</td>\n",
       "      <td>ADAPTATION HOLES</td>\n",
       "      <td>A Astounding Reflection of a Lumberjack And a ...</td>\n",
       "      <td>2006</td>\n",
       "      <td>1</td>\n",
       "      <td>NaN</td>\n",
       "      <td>7</td>\n",
       "      <td>2.99</td>\n",
       "      <td>50</td>\n",
       "      <td>18.99</td>\n",
       "      <td>NC-17</td>\n",
       "      <td>Trailers,Deleted Scenes</td>\n",
       "      <td>2006-02-15 05:03:42</td>\n",
       "    </tr>\n",
       "  </tbody>\n",
       "</table>\n",
       "</div>"
      ],
      "text/plain": [
       "   film_id             title  \\\n",
       "0        1  ACADEMY DINOSAUR   \n",
       "1        2    ACE GOLDFINGER   \n",
       "2        3  ADAPTATION HOLES   \n",
       "\n",
       "                                         description  release_year  \\\n",
       "0  A Epic Drama of a Feminist And a Mad Scientist...          2006   \n",
       "1  A Astounding Epistle of a Database Administrat...          2006   \n",
       "2  A Astounding Reflection of a Lumberjack And a ...          2006   \n",
       "\n",
       "   language_id  original_language_id  rental_duration  rental_rate  length  \\\n",
       "0            1                   NaN                6         0.99      86   \n",
       "1            1                   NaN                3         4.99      48   \n",
       "2            1                   NaN                7         2.99      50   \n",
       "\n",
       "   replacement_cost rating                  special_features  \\\n",
       "0             20.99     PG  Deleted Scenes,Behind the Scenes   \n",
       "1             12.99      G           Trailers,Deleted Scenes   \n",
       "2             18.99  NC-17           Trailers,Deleted Scenes   \n",
       "\n",
       "           last_update  \n",
       "0  2006-02-15 05:03:42  \n",
       "1  2006-02-15 05:03:42  \n",
       "2  2006-02-15 05:03:42  "
      ]
     },
     "execution_count": 25,
     "metadata": {},
     "output_type": "execute_result"
    }
   ],
   "source": [
    "peli.head(3)"
   ]
  },
  {
   "cell_type": "code",
   "execution_count": 26,
   "id": "307a7fba",
   "metadata": {},
   "outputs": [
    {
     "name": "stdout",
     "output_type": "stream",
     "text": [
      "<class 'pandas.core.frame.DataFrame'>\n",
      "RangeIndex: 1000 entries, 0 to 999\n",
      "Data columns (total 13 columns):\n",
      " #   Column                Non-Null Count  Dtype  \n",
      "---  ------                --------------  -----  \n",
      " 0   film_id               1000 non-null   int64  \n",
      " 1   title                 1000 non-null   object \n",
      " 2   description           1000 non-null   object \n",
      " 3   release_year          1000 non-null   int64  \n",
      " 4   language_id           1000 non-null   int64  \n",
      " 5   original_language_id  0 non-null      float64\n",
      " 6   rental_duration       1000 non-null   int64  \n",
      " 7   rental_rate           1000 non-null   float64\n",
      " 8   length                1000 non-null   int64  \n",
      " 9   replacement_cost      1000 non-null   float64\n",
      " 10  rating                1000 non-null   object \n",
      " 11  special_features      1000 non-null   object \n",
      " 12  last_update           1000 non-null   object \n",
      "dtypes: float64(3), int64(5), object(5)\n",
      "memory usage: 101.7+ KB\n"
     ]
    }
   ],
   "source": [
    "peli.info() # Verificamos la informacion general del DF(encontramos una columna integra de nulos.)\n",
    "            # Tamañano del DF(1000 filas/13 columnas)"
   ]
  },
  {
   "cell_type": "code",
   "execution_count": 27,
   "id": "3f14dd3b",
   "metadata": {},
   "outputs": [
    {
     "data": {
      "text/plain": [
       "array(['Deleted Scenes,Behind the Scenes', 'Trailers,Deleted Scenes',\n",
       "       'Commentaries,Behind the Scenes', 'Deleted Scenes', 'Trailers',\n",
       "       'Commentaries,Deleted Scenes',\n",
       "       'Trailers,Deleted Scenes,Behind the Scenes',\n",
       "       'Trailers,Commentaries,Behind the Scenes', 'Trailers,Commentaries',\n",
       "       'Trailers,Behind the Scenes',\n",
       "       'Commentaries,Deleted Scenes,Behind the Scenes',\n",
       "       'Trailers,Commentaries,Deleted Scenes',\n",
       "       'Trailers,Commentaries,Deleted Scenes,Behind the Scenes',\n",
       "       'Behind the Scenes', 'Commentaries'], dtype=object)"
      ]
     },
     "execution_count": 27,
     "metadata": {},
     "output_type": "execute_result"
    }
   ],
   "source": [
    "peli.special_features.unique() #  Aqui tenemos valores unicos de esta columna.\n",
    "                               # Vamos a dividir las caracteristicas especiales que tiene."
   ]
  },
  {
   "cell_type": "code",
   "execution_count": 28,
   "id": "083fcef6",
   "metadata": {},
   "outputs": [],
   "source": [
    "nuevas_columnas = peli['special_features'].str.get_dummies(',').astype(bool) # Utilizamos Get_Dummies para separar valores unicos donde se enuentre la \",\"."
   ]
  },
  {
   "cell_type": "code",
   "execution_count": 29,
   "id": "fabe5981",
   "metadata": {},
   "outputs": [],
   "source": [
    "peli =pd.concat([peli, nuevas_columnas], axis=1,) # Unimos las nuevas columnas del Get_Dummies al DF original\n",
    "peli.columns = peli.columns.str.lower().str.replace(' ', '_') # Modificamos el nombre de las columnas para que queden todas iguales."
   ]
  },
  {
   "cell_type": "code",
   "execution_count": 30,
   "id": "232d6470",
   "metadata": {},
   "outputs": [],
   "source": [
    "peli.drop(columns=['original_language_id'], inplace=True) # Eliminamos la columna con valores nulos.\n",
    "peli.drop(columns=['special_features'], inplace=True) # Eliminamos completamente la columna que aplicamos el Get_Dummies.\n",
    "peli.drop(columns=['last_update'], inplace=True) # Eliminamos la columna last_update."
   ]
  },
  {
   "cell_type": "code",
   "execution_count": 31,
   "id": "9325ee82",
   "metadata": {},
   "outputs": [],
   "source": [
    "peli['title'] = peli['title'].str.capitalize() # Capitalizamos las columnas titulo."
   ]
  },
  {
   "cell_type": "code",
   "execution_count": 32,
   "id": "d9e62763",
   "metadata": {},
   "outputs": [
    {
     "data": {
      "text/plain": [
       "array([False])"
      ]
     },
     "execution_count": 32,
     "metadata": {},
     "output_type": "execute_result"
    }
   ],
   "source": [
    "peli.duplicated(['title','description']).unique()   # Verificamos si hay filas duplicadas."
   ]
  },
  {
   "cell_type": "code",
   "execution_count": 33,
   "id": "d948131c",
   "metadata": {},
   "outputs": [
    {
     "name": "stdout",
     "output_type": "stream",
     "text": [
      "<class 'pandas.core.frame.DataFrame'>\n",
      "RangeIndex: 1000 entries, 0 to 999\n",
      "Data columns (total 14 columns):\n",
      " #   Column             Non-Null Count  Dtype   \n",
      "---  ------             --------------  -----   \n",
      " 0   film_id            1000 non-null   int16   \n",
      " 1   title              1000 non-null   category\n",
      " 2   description        1000 non-null   category\n",
      " 3   release_year       1000 non-null   int16   \n",
      " 4   language_id        1000 non-null   int8    \n",
      " 5   rental_duration    1000 non-null   int8    \n",
      " 6   rental_rate        1000 non-null   float32 \n",
      " 7   length             1000 non-null   int16   \n",
      " 8   replacement_cost   1000 non-null   float32 \n",
      " 9   rating             1000 non-null   category\n",
      " 10  behind_the_scenes  1000 non-null   bool    \n",
      " 11  commentaries       1000 non-null   bool    \n",
      " 12  deleted_scenes     1000 non-null   bool    \n",
      " 13  trailers           1000 non-null   bool    \n",
      "dtypes: bool(4), category(3), float32(2), int16(3), int8(2)\n",
      "memory usage: 306.4 KB\n"
     ]
    }
   ],
   "source": [
    "# cambiamos el Dtype de cada columna para optimizar la memoria.\n",
    "\n",
    "for c in peli.select_dtypes(include='object'):\n",
    "    \n",
    "    peli[c] = peli[c].astype('category') \n",
    "    \n",
    "    \n",
    "for c in peli.select_dtypes(include='integer'):\n",
    "    \n",
    "    peli[c]=pd.to_numeric(peli[c], downcast='integer')\n",
    "    \n",
    "for c in peli.select_dtypes(include='float'):\n",
    "    \n",
    "    peli[c]=pd.to_numeric(peli[c], downcast='float')\n",
    "\n",
    "peli.info(memory_usage='deep') # Volvemos a verificar que no quedan columnas con valores nulos.\n",
    "                               # Tamañano del DF(1000 filas/15 columnas)"
   ]
  },
  {
   "cell_type": "code",
   "execution_count": 34,
   "id": "a39cb6d3",
   "metadata": {},
   "outputs": [
    {
     "data": {
      "text/html": [
       "<div>\n",
       "<style scoped>\n",
       "    .dataframe tbody tr th:only-of-type {\n",
       "        vertical-align: middle;\n",
       "    }\n",
       "\n",
       "    .dataframe tbody tr th {\n",
       "        vertical-align: top;\n",
       "    }\n",
       "\n",
       "    .dataframe thead th {\n",
       "        text-align: right;\n",
       "    }\n",
       "</style>\n",
       "<table border=\"1\" class=\"dataframe\">\n",
       "  <thead>\n",
       "    <tr style=\"text-align: right;\">\n",
       "      <th></th>\n",
       "      <th>film_id</th>\n",
       "      <th>title</th>\n",
       "      <th>description</th>\n",
       "      <th>release_year</th>\n",
       "      <th>language_id</th>\n",
       "      <th>rental_duration</th>\n",
       "      <th>rental_rate</th>\n",
       "      <th>length</th>\n",
       "      <th>replacement_cost</th>\n",
       "      <th>rating</th>\n",
       "      <th>behind_the_scenes</th>\n",
       "      <th>commentaries</th>\n",
       "      <th>deleted_scenes</th>\n",
       "      <th>trailers</th>\n",
       "    </tr>\n",
       "  </thead>\n",
       "  <tbody>\n",
       "    <tr>\n",
       "      <th>0</th>\n",
       "      <td>1</td>\n",
       "      <td>Academy dinosaur</td>\n",
       "      <td>A Epic Drama of a Feminist And a Mad Scientist...</td>\n",
       "      <td>2006</td>\n",
       "      <td>1</td>\n",
       "      <td>6</td>\n",
       "      <td>0.99</td>\n",
       "      <td>86</td>\n",
       "      <td>20.99</td>\n",
       "      <td>PG</td>\n",
       "      <td>True</td>\n",
       "      <td>False</td>\n",
       "      <td>True</td>\n",
       "      <td>False</td>\n",
       "    </tr>\n",
       "    <tr>\n",
       "      <th>1</th>\n",
       "      <td>2</td>\n",
       "      <td>Ace goldfinger</td>\n",
       "      <td>A Astounding Epistle of a Database Administrat...</td>\n",
       "      <td>2006</td>\n",
       "      <td>1</td>\n",
       "      <td>3</td>\n",
       "      <td>4.99</td>\n",
       "      <td>48</td>\n",
       "      <td>12.99</td>\n",
       "      <td>G</td>\n",
       "      <td>False</td>\n",
       "      <td>False</td>\n",
       "      <td>True</td>\n",
       "      <td>True</td>\n",
       "    </tr>\n",
       "    <tr>\n",
       "      <th>2</th>\n",
       "      <td>3</td>\n",
       "      <td>Adaptation holes</td>\n",
       "      <td>A Astounding Reflection of a Lumberjack And a ...</td>\n",
       "      <td>2006</td>\n",
       "      <td>1</td>\n",
       "      <td>7</td>\n",
       "      <td>2.99</td>\n",
       "      <td>50</td>\n",
       "      <td>18.99</td>\n",
       "      <td>NC-17</td>\n",
       "      <td>False</td>\n",
       "      <td>False</td>\n",
       "      <td>True</td>\n",
       "      <td>True</td>\n",
       "    </tr>\n",
       "  </tbody>\n",
       "</table>\n",
       "</div>"
      ],
      "text/plain": [
       "   film_id             title  \\\n",
       "0        1  Academy dinosaur   \n",
       "1        2    Ace goldfinger   \n",
       "2        3  Adaptation holes   \n",
       "\n",
       "                                         description  release_year  \\\n",
       "0  A Epic Drama of a Feminist And a Mad Scientist...          2006   \n",
       "1  A Astounding Epistle of a Database Administrat...          2006   \n",
       "2  A Astounding Reflection of a Lumberjack And a ...          2006   \n",
       "\n",
       "   language_id  rental_duration  rental_rate  length  replacement_cost rating  \\\n",
       "0            1                6         0.99      86             20.99     PG   \n",
       "1            1                3         4.99      48             12.99      G   \n",
       "2            1                7         2.99      50             18.99  NC-17   \n",
       "\n",
       "   behind_the_scenes  commentaries  deleted_scenes  trailers  \n",
       "0               True         False            True     False  \n",
       "1              False         False            True      True  \n",
       "2              False         False            True      True  "
      ]
     },
     "execution_count": 34,
     "metadata": {},
     "output_type": "execute_result"
    }
   ],
   "source": [
    "peli.head(3)"
   ]
  },
  {
   "cell_type": "code",
   "execution_count": 35,
   "id": "58f5b6b7",
   "metadata": {},
   "outputs": [
    {
     "data": {
      "text/html": [
       "<div>\n",
       "<style scoped>\n",
       "    .dataframe tbody tr th:only-of-type {\n",
       "        vertical-align: middle;\n",
       "    }\n",
       "\n",
       "    .dataframe tbody tr th {\n",
       "        vertical-align: top;\n",
       "    }\n",
       "\n",
       "    .dataframe thead th {\n",
       "        text-align: right;\n",
       "    }\n",
       "</style>\n",
       "<table border=\"1\" class=\"dataframe\">\n",
       "  <thead>\n",
       "    <tr style=\"text-align: right;\">\n",
       "      <th></th>\n",
       "      <th>film_id</th>\n",
       "      <th>title</th>\n",
       "      <th>description</th>\n",
       "      <th>release_year</th>\n",
       "      <th>language_id</th>\n",
       "      <th>rental_duration</th>\n",
       "      <th>rental_rate</th>\n",
       "      <th>length</th>\n",
       "      <th>replacement_cost</th>\n",
       "      <th>rating</th>\n",
       "      <th>behind_the_scenes</th>\n",
       "      <th>commentaries</th>\n",
       "      <th>deleted_scenes</th>\n",
       "      <th>trailers</th>\n",
       "      <th>category_id</th>\n",
       "    </tr>\n",
       "  </thead>\n",
       "  <tbody>\n",
       "    <tr>\n",
       "      <th>0</th>\n",
       "      <td>1</td>\n",
       "      <td>Academy dinosaur</td>\n",
       "      <td>A Epic Drama of a Feminist And a Mad Scientist...</td>\n",
       "      <td>2006</td>\n",
       "      <td>1</td>\n",
       "      <td>6</td>\n",
       "      <td>0.99</td>\n",
       "      <td>86</td>\n",
       "      <td>20.99</td>\n",
       "      <td>PG</td>\n",
       "      <td>True</td>\n",
       "      <td>False</td>\n",
       "      <td>True</td>\n",
       "      <td>False</td>\n",
       "      <td>7</td>\n",
       "    </tr>\n",
       "    <tr>\n",
       "      <th>1</th>\n",
       "      <td>2</td>\n",
       "      <td>Ace goldfinger</td>\n",
       "      <td>A Astounding Epistle of a Database Administrat...</td>\n",
       "      <td>2006</td>\n",
       "      <td>1</td>\n",
       "      <td>3</td>\n",
       "      <td>4.99</td>\n",
       "      <td>48</td>\n",
       "      <td>12.99</td>\n",
       "      <td>G</td>\n",
       "      <td>False</td>\n",
       "      <td>False</td>\n",
       "      <td>True</td>\n",
       "      <td>True</td>\n",
       "      <td>17</td>\n",
       "    </tr>\n",
       "    <tr>\n",
       "      <th>2</th>\n",
       "      <td>3</td>\n",
       "      <td>Adaptation holes</td>\n",
       "      <td>A Astounding Reflection of a Lumberjack And a ...</td>\n",
       "      <td>2006</td>\n",
       "      <td>1</td>\n",
       "      <td>7</td>\n",
       "      <td>2.99</td>\n",
       "      <td>50</td>\n",
       "      <td>18.99</td>\n",
       "      <td>NC-17</td>\n",
       "      <td>False</td>\n",
       "      <td>False</td>\n",
       "      <td>True</td>\n",
       "      <td>True</td>\n",
       "      <td>17</td>\n",
       "    </tr>\n",
       "    <tr>\n",
       "      <th>3</th>\n",
       "      <td>4</td>\n",
       "      <td>Affair prejudice</td>\n",
       "      <td>A Fanciful Documentary of a Frisbee And a Lumb...</td>\n",
       "      <td>2006</td>\n",
       "      <td>1</td>\n",
       "      <td>5</td>\n",
       "      <td>2.99</td>\n",
       "      <td>117</td>\n",
       "      <td>26.99</td>\n",
       "      <td>G</td>\n",
       "      <td>True</td>\n",
       "      <td>True</td>\n",
       "      <td>False</td>\n",
       "      <td>False</td>\n",
       "      <td>6</td>\n",
       "    </tr>\n",
       "    <tr>\n",
       "      <th>4</th>\n",
       "      <td>5</td>\n",
       "      <td>African egg</td>\n",
       "      <td>A Fast-Paced Documentary of a Pastry Chef And ...</td>\n",
       "      <td>2006</td>\n",
       "      <td>1</td>\n",
       "      <td>6</td>\n",
       "      <td>2.99</td>\n",
       "      <td>130</td>\n",
       "      <td>22.99</td>\n",
       "      <td>G</td>\n",
       "      <td>False</td>\n",
       "      <td>False</td>\n",
       "      <td>True</td>\n",
       "      <td>False</td>\n",
       "      <td>6</td>\n",
       "    </tr>\n",
       "    <tr>\n",
       "      <th>...</th>\n",
       "      <td>...</td>\n",
       "      <td>...</td>\n",
       "      <td>...</td>\n",
       "      <td>...</td>\n",
       "      <td>...</td>\n",
       "      <td>...</td>\n",
       "      <td>...</td>\n",
       "      <td>...</td>\n",
       "      <td>...</td>\n",
       "      <td>...</td>\n",
       "      <td>...</td>\n",
       "      <td>...</td>\n",
       "      <td>...</td>\n",
       "      <td>...</td>\n",
       "      <td>...</td>\n",
       "    </tr>\n",
       "    <tr>\n",
       "      <th>995</th>\n",
       "      <td>996</td>\n",
       "      <td>Young language</td>\n",
       "      <td>A Unbelieveable Yarn of a Boat And a Database ...</td>\n",
       "      <td>2006</td>\n",
       "      <td>1</td>\n",
       "      <td>6</td>\n",
       "      <td>0.99</td>\n",
       "      <td>183</td>\n",
       "      <td>9.99</td>\n",
       "      <td>G</td>\n",
       "      <td>True</td>\n",
       "      <td>False</td>\n",
       "      <td>False</td>\n",
       "      <td>True</td>\n",
       "      <td>17</td>\n",
       "    </tr>\n",
       "    <tr>\n",
       "      <th>996</th>\n",
       "      <td>997</td>\n",
       "      <td>Youth kick</td>\n",
       "      <td>A Touching Drama of a Teacher And a Cat who mu...</td>\n",
       "      <td>2006</td>\n",
       "      <td>1</td>\n",
       "      <td>4</td>\n",
       "      <td>0.99</td>\n",
       "      <td>179</td>\n",
       "      <td>14.99</td>\n",
       "      <td>NC-17</td>\n",
       "      <td>True</td>\n",
       "      <td>False</td>\n",
       "      <td>False</td>\n",
       "      <td>True</td>\n",
       "      <td>7</td>\n",
       "    </tr>\n",
       "    <tr>\n",
       "      <th>997</th>\n",
       "      <td>998</td>\n",
       "      <td>Zhivago core</td>\n",
       "      <td>A Fateful Yarn of a Composer And a Man who mus...</td>\n",
       "      <td>2006</td>\n",
       "      <td>1</td>\n",
       "      <td>6</td>\n",
       "      <td>0.99</td>\n",
       "      <td>105</td>\n",
       "      <td>10.99</td>\n",
       "      <td>NC-17</td>\n",
       "      <td>False</td>\n",
       "      <td>False</td>\n",
       "      <td>True</td>\n",
       "      <td>False</td>\n",
       "      <td>17</td>\n",
       "    </tr>\n",
       "    <tr>\n",
       "      <th>998</th>\n",
       "      <td>999</td>\n",
       "      <td>Zoolander fiction</td>\n",
       "      <td>A Fateful Reflection of a Waitress And a Boat ...</td>\n",
       "      <td>2006</td>\n",
       "      <td>1</td>\n",
       "      <td>5</td>\n",
       "      <td>2.99</td>\n",
       "      <td>101</td>\n",
       "      <td>28.99</td>\n",
       "      <td>R</td>\n",
       "      <td>False</td>\n",
       "      <td>False</td>\n",
       "      <td>True</td>\n",
       "      <td>True</td>\n",
       "      <td>17</td>\n",
       "    </tr>\n",
       "    <tr>\n",
       "      <th>999</th>\n",
       "      <td>1000</td>\n",
       "      <td>Zorro ark</td>\n",
       "      <td>A Intrepid Panorama of a Mad Scientist And a B...</td>\n",
       "      <td>2006</td>\n",
       "      <td>1</td>\n",
       "      <td>3</td>\n",
       "      <td>4.99</td>\n",
       "      <td>50</td>\n",
       "      <td>18.99</td>\n",
       "      <td>NC-17</td>\n",
       "      <td>True</td>\n",
       "      <td>True</td>\n",
       "      <td>False</td>\n",
       "      <td>True</td>\n",
       "      <td>17</td>\n",
       "    </tr>\n",
       "  </tbody>\n",
       "</table>\n",
       "<p>1000 rows × 15 columns</p>\n",
       "</div>"
      ],
      "text/plain": [
       "     film_id              title  \\\n",
       "0          1   Academy dinosaur   \n",
       "1          2     Ace goldfinger   \n",
       "2          3   Adaptation holes   \n",
       "3          4   Affair prejudice   \n",
       "4          5        African egg   \n",
       "..       ...                ...   \n",
       "995      996     Young language   \n",
       "996      997         Youth kick   \n",
       "997      998       Zhivago core   \n",
       "998      999  Zoolander fiction   \n",
       "999     1000          Zorro ark   \n",
       "\n",
       "                                           description  release_year  \\\n",
       "0    A Epic Drama of a Feminist And a Mad Scientist...          2006   \n",
       "1    A Astounding Epistle of a Database Administrat...          2006   \n",
       "2    A Astounding Reflection of a Lumberjack And a ...          2006   \n",
       "3    A Fanciful Documentary of a Frisbee And a Lumb...          2006   \n",
       "4    A Fast-Paced Documentary of a Pastry Chef And ...          2006   \n",
       "..                                                 ...           ...   \n",
       "995  A Unbelieveable Yarn of a Boat And a Database ...          2006   \n",
       "996  A Touching Drama of a Teacher And a Cat who mu...          2006   \n",
       "997  A Fateful Yarn of a Composer And a Man who mus...          2006   \n",
       "998  A Fateful Reflection of a Waitress And a Boat ...          2006   \n",
       "999  A Intrepid Panorama of a Mad Scientist And a B...          2006   \n",
       "\n",
       "     language_id  rental_duration  rental_rate  length  replacement_cost  \\\n",
       "0              1                6         0.99      86             20.99   \n",
       "1              1                3         4.99      48             12.99   \n",
       "2              1                7         2.99      50             18.99   \n",
       "3              1                5         2.99     117             26.99   \n",
       "4              1                6         2.99     130             22.99   \n",
       "..           ...              ...          ...     ...               ...   \n",
       "995            1                6         0.99     183              9.99   \n",
       "996            1                4         0.99     179             14.99   \n",
       "997            1                6         0.99     105             10.99   \n",
       "998            1                5         2.99     101             28.99   \n",
       "999            1                3         4.99      50             18.99   \n",
       "\n",
       "    rating  behind_the_scenes  commentaries  deleted_scenes  trailers  \\\n",
       "0       PG               True         False            True     False   \n",
       "1        G              False         False            True      True   \n",
       "2    NC-17              False         False            True      True   \n",
       "3        G               True          True           False     False   \n",
       "4        G              False         False            True     False   \n",
       "..     ...                ...           ...             ...       ...   \n",
       "995      G               True         False           False      True   \n",
       "996  NC-17               True         False           False      True   \n",
       "997  NC-17              False         False            True     False   \n",
       "998      R              False         False            True      True   \n",
       "999  NC-17               True          True           False      True   \n",
       "\n",
       "    category_id  \n",
       "0             7  \n",
       "1            17  \n",
       "2            17  \n",
       "3             6  \n",
       "4             6  \n",
       "..          ...  \n",
       "995          17  \n",
       "996           7  \n",
       "997          17  \n",
       "998          17  \n",
       "999          17  \n",
       "\n",
       "[1000 rows x 15 columns]"
      ]
     },
     "execution_count": 35,
     "metadata": {},
     "output_type": "execute_result"
    }
   ],
   "source": [
    "palabras_clave = ['Action', 'Animation', 'Children', 'Classics', 'Comedy', 'Documentary', 'Drama', 'Family', 'Foreign', 'Games', 'Horror', 'Music', 'New', 'Sci-Fi', 'Sports', 'Travel']\n",
    "\n",
    "def buscar_palabras_clave(description):\n",
    "    for i, palabra in enumerate(palabras_clave):\n",
    "        if palabra.lower() in description.lower():\n",
    "            return str(i + 1)\n",
    "    return \"17\"\n",
    "\n",
    "peli['category_id'] = peli['description'].apply(buscar_palabras_clave)\n",
    "\n",
    "peli"
   ]
  },
  {
   "cell_type": "markdown",
   "id": "b820966c",
   "metadata": {},
   "source": [
    "## Inventory.csv"
   ]
  },
  {
   "cell_type": "code",
   "execution_count": 15,
   "id": "cf46c496",
   "metadata": {},
   "outputs": [],
   "source": [
    "inventario = pd.read_csv('C:/ironhack/w3-project_SQL/data/data_sucio/inventory.csv',encoding='latin1') # Cargamos el csv inventory"
   ]
  },
  {
   "cell_type": "code",
   "execution_count": 37,
   "id": "4c9f3990",
   "metadata": {},
   "outputs": [
    {
     "data": {
      "text/html": [
       "<div>\n",
       "<style scoped>\n",
       "    .dataframe tbody tr th:only-of-type {\n",
       "        vertical-align: middle;\n",
       "    }\n",
       "\n",
       "    .dataframe tbody tr th {\n",
       "        vertical-align: top;\n",
       "    }\n",
       "\n",
       "    .dataframe thead th {\n",
       "        text-align: right;\n",
       "    }\n",
       "</style>\n",
       "<table border=\"1\" class=\"dataframe\">\n",
       "  <thead>\n",
       "    <tr style=\"text-align: right;\">\n",
       "      <th></th>\n",
       "      <th>inventory_id</th>\n",
       "      <th>film_id</th>\n",
       "      <th>store_id</th>\n",
       "      <th>last_update</th>\n",
       "    </tr>\n",
       "  </thead>\n",
       "  <tbody>\n",
       "    <tr>\n",
       "      <th>0</th>\n",
       "      <td>1</td>\n",
       "      <td>1</td>\n",
       "      <td>1</td>\n",
       "      <td>2006-02-15 05:09:17</td>\n",
       "    </tr>\n",
       "    <tr>\n",
       "      <th>1</th>\n",
       "      <td>2</td>\n",
       "      <td>1</td>\n",
       "      <td>1</td>\n",
       "      <td>2006-02-15 05:09:17</td>\n",
       "    </tr>\n",
       "    <tr>\n",
       "      <th>2</th>\n",
       "      <td>3</td>\n",
       "      <td>1</td>\n",
       "      <td>1</td>\n",
       "      <td>2006-02-15 05:09:17</td>\n",
       "    </tr>\n",
       "    <tr>\n",
       "      <th>3</th>\n",
       "      <td>4</td>\n",
       "      <td>1</td>\n",
       "      <td>1</td>\n",
       "      <td>2006-02-15 05:09:17</td>\n",
       "    </tr>\n",
       "    <tr>\n",
       "      <th>4</th>\n",
       "      <td>5</td>\n",
       "      <td>1</td>\n",
       "      <td>2</td>\n",
       "      <td>2006-02-15 05:09:17</td>\n",
       "    </tr>\n",
       "  </tbody>\n",
       "</table>\n",
       "</div>"
      ],
      "text/plain": [
       "   inventory_id  film_id  store_id          last_update\n",
       "0             1        1         1  2006-02-15 05:09:17\n",
       "1             2        1         1  2006-02-15 05:09:17\n",
       "2             3        1         1  2006-02-15 05:09:17\n",
       "3             4        1         1  2006-02-15 05:09:17\n",
       "4             5        1         2  2006-02-15 05:09:17"
      ]
     },
     "execution_count": 37,
     "metadata": {},
     "output_type": "execute_result"
    }
   ],
   "source": [
    "inventario.head()"
   ]
  },
  {
   "cell_type": "code",
   "execution_count": 38,
   "id": "927afb88",
   "metadata": {},
   "outputs": [
    {
     "name": "stdout",
     "output_type": "stream",
     "text": [
      "<class 'pandas.core.frame.DataFrame'>\n",
      "RangeIndex: 1000 entries, 0 to 999\n",
      "Data columns (total 4 columns):\n",
      " #   Column        Non-Null Count  Dtype \n",
      "---  ------        --------------  ----- \n",
      " 0   inventory_id  1000 non-null   int64 \n",
      " 1   film_id       1000 non-null   int64 \n",
      " 2   store_id      1000 non-null   int64 \n",
      " 3   last_update   1000 non-null   object\n",
      "dtypes: int64(3), object(1)\n",
      "memory usage: 97.8 KB\n"
     ]
    }
   ],
   "source": [
    "inventario.info(memory_usage='deep') # Verificamos la informacion general del DF.\n",
    "                                     # Tamañano del DF(1000 filas/4 columnas)"
   ]
  },
  {
   "cell_type": "code",
   "execution_count": 39,
   "id": "b44e177a",
   "metadata": {},
   "outputs": [
    {
     "data": {
      "text/plain": [
       "array([False])"
      ]
     },
     "execution_count": 39,
     "metadata": {},
     "output_type": "execute_result"
    }
   ],
   "source": [
    "inventario.duplicated(['inventory_id','film_id','store_id','last_update']).unique() # Verificamos filas duplicadas."
   ]
  },
  {
   "cell_type": "code",
   "execution_count": 40,
   "id": "554bd4a9",
   "metadata": {},
   "outputs": [
    {
     "name": "stdout",
     "output_type": "stream",
     "text": [
      "<class 'pandas.core.frame.DataFrame'>\n",
      "RangeIndex: 1000 entries, 0 to 999\n",
      "Data columns (total 4 columns):\n",
      " #   Column        Non-Null Count  Dtype   \n",
      "---  ------        --------------  -----   \n",
      " 0   inventory_id  1000 non-null   int16   \n",
      " 1   film_id       1000 non-null   int16   \n",
      " 2   store_id      1000 non-null   int8    \n",
      " 3   last_update   1000 non-null   category\n",
      "dtypes: category(1), int16(2), int8(1)\n",
      "memory usage: 6.2 KB\n"
     ]
    }
   ],
   "source": [
    "# cambiamos el Dtype de cada columna para optimizar la memoria.\n",
    "\n",
    "for c in inventario.select_dtypes(include='object'):\n",
    "    \n",
    "    inventario[c] = inventario[c].astype('category') \n",
    "    \n",
    "    \n",
    "for c in inventario.select_dtypes(include='integer'):\n",
    "    \n",
    "    inventario[c]=pd.to_numeric(inventario[c], downcast='integer')\n",
    "    \n",
    "\n",
    "inventario.info(memory_usage='deep') # Verificamos la informacion general del DF.\n",
    "                                     # Tamañano del DF(1000 filas/4 columnas)"
   ]
  },
  {
   "cell_type": "markdown",
   "id": "60ac7202",
   "metadata": {},
   "source": [
    "## language.csv"
   ]
  },
  {
   "cell_type": "code",
   "execution_count": 16,
   "id": "558660b1",
   "metadata": {},
   "outputs": [],
   "source": [
    "lengua = pd.read_csv('C:/ironhack/w3-project_SQL/data/data_sucio/language.csv', encoding='latin1') # Cargamos el csv language"
   ]
  },
  {
   "cell_type": "code",
   "execution_count": 42,
   "id": "14678b95",
   "metadata": {
    "scrolled": true
   },
   "outputs": [
    {
     "name": "stdout",
     "output_type": "stream",
     "text": [
      "<class 'pandas.core.frame.DataFrame'>\n",
      "RangeIndex: 6 entries, 0 to 5\n",
      "Data columns (total 3 columns):\n",
      " #   Column       Non-Null Count  Dtype \n",
      "---  ------       --------------  ----- \n",
      " 0   language_id  6 non-null      int64 \n",
      " 1   name         6 non-null      object\n",
      " 2   last_update  6 non-null      object\n",
      "dtypes: int64(1), object(2)\n",
      "memory usage: 1016.0 bytes\n"
     ]
    }
   ],
   "source": [
    "lengua.info(memory_usage='deep') # Verificamos la informacion general del DF.\n",
    "                                 # Tamañano del DF(6 filas/3 columnas)"
   ]
  },
  {
   "cell_type": "code",
   "execution_count": 43,
   "id": "0d334b32",
   "metadata": {},
   "outputs": [
    {
     "data": {
      "text/html": [
       "<div>\n",
       "<style scoped>\n",
       "    .dataframe tbody tr th:only-of-type {\n",
       "        vertical-align: middle;\n",
       "    }\n",
       "\n",
       "    .dataframe tbody tr th {\n",
       "        vertical-align: top;\n",
       "    }\n",
       "\n",
       "    .dataframe thead th {\n",
       "        text-align: right;\n",
       "    }\n",
       "</style>\n",
       "<table border=\"1\" class=\"dataframe\">\n",
       "  <thead>\n",
       "    <tr style=\"text-align: right;\">\n",
       "      <th></th>\n",
       "      <th>language_id</th>\n",
       "      <th>name</th>\n",
       "      <th>last_update</th>\n",
       "    </tr>\n",
       "  </thead>\n",
       "  <tbody>\n",
       "    <tr>\n",
       "      <th>0</th>\n",
       "      <td>1</td>\n",
       "      <td>English</td>\n",
       "      <td>2006-02-15 05:02:19</td>\n",
       "    </tr>\n",
       "    <tr>\n",
       "      <th>1</th>\n",
       "      <td>2</td>\n",
       "      <td>Italian</td>\n",
       "      <td>2006-02-15 05:02:19</td>\n",
       "    </tr>\n",
       "    <tr>\n",
       "      <th>2</th>\n",
       "      <td>3</td>\n",
       "      <td>Japanese</td>\n",
       "      <td>2006-02-15 05:02:19</td>\n",
       "    </tr>\n",
       "    <tr>\n",
       "      <th>3</th>\n",
       "      <td>4</td>\n",
       "      <td>Mandarin</td>\n",
       "      <td>2006-02-15 05:02:19</td>\n",
       "    </tr>\n",
       "    <tr>\n",
       "      <th>4</th>\n",
       "      <td>5</td>\n",
       "      <td>French</td>\n",
       "      <td>2006-02-15 05:02:19</td>\n",
       "    </tr>\n",
       "    <tr>\n",
       "      <th>5</th>\n",
       "      <td>6</td>\n",
       "      <td>German</td>\n",
       "      <td>2006-02-15 05:02:19</td>\n",
       "    </tr>\n",
       "  </tbody>\n",
       "</table>\n",
       "</div>"
      ],
      "text/plain": [
       "   language_id      name          last_update\n",
       "0            1   English  2006-02-15 05:02:19\n",
       "1            2   Italian  2006-02-15 05:02:19\n",
       "2            3  Japanese  2006-02-15 05:02:19\n",
       "3            4  Mandarin  2006-02-15 05:02:19\n",
       "4            5    French  2006-02-15 05:02:19\n",
       "5            6    German  2006-02-15 05:02:19"
      ]
     },
     "execution_count": 43,
     "metadata": {},
     "output_type": "execute_result"
    }
   ],
   "source": [
    "lengua.head(10)"
   ]
  },
  {
   "cell_type": "code",
   "execution_count": 44,
   "id": "1dcf21a3",
   "metadata": {},
   "outputs": [],
   "source": [
    "lengua.drop(columns=['last_update'], inplace=True) # Eliminamos la columna last_update."
   ]
  },
  {
   "cell_type": "code",
   "execution_count": 45,
   "id": "2ca466be",
   "metadata": {},
   "outputs": [
    {
     "data": {
      "text/plain": [
       "False"
      ]
     },
     "execution_count": 45,
     "metadata": {},
     "output_type": "execute_result"
    }
   ],
   "source": [
    "lengua.duplicated().any() # verificamos filas duplicadas, no es necesario ya que podemos ver perfectamente los datos que tiene."
   ]
  },
  {
   "cell_type": "code",
   "execution_count": 46,
   "id": "10099375",
   "metadata": {},
   "outputs": [
    {
     "data": {
      "text/html": [
       "<div>\n",
       "<style scoped>\n",
       "    .dataframe tbody tr th:only-of-type {\n",
       "        vertical-align: middle;\n",
       "    }\n",
       "\n",
       "    .dataframe tbody tr th {\n",
       "        vertical-align: top;\n",
       "    }\n",
       "\n",
       "    .dataframe thead th {\n",
       "        text-align: right;\n",
       "    }\n",
       "</style>\n",
       "<table border=\"1\" class=\"dataframe\">\n",
       "  <thead>\n",
       "    <tr style=\"text-align: right;\">\n",
       "      <th></th>\n",
       "      <th>language_id</th>\n",
       "      <th>name</th>\n",
       "    </tr>\n",
       "  </thead>\n",
       "  <tbody>\n",
       "    <tr>\n",
       "      <th>0</th>\n",
       "      <td>1</td>\n",
       "      <td>English</td>\n",
       "    </tr>\n",
       "    <tr>\n",
       "      <th>1</th>\n",
       "      <td>2</td>\n",
       "      <td>Italian</td>\n",
       "    </tr>\n",
       "    <tr>\n",
       "      <th>2</th>\n",
       "      <td>3</td>\n",
       "      <td>Japanese</td>\n",
       "    </tr>\n",
       "    <tr>\n",
       "      <th>3</th>\n",
       "      <td>4</td>\n",
       "      <td>Mandarin</td>\n",
       "    </tr>\n",
       "    <tr>\n",
       "      <th>4</th>\n",
       "      <td>5</td>\n",
       "      <td>French</td>\n",
       "    </tr>\n",
       "    <tr>\n",
       "      <th>5</th>\n",
       "      <td>6</td>\n",
       "      <td>German</td>\n",
       "    </tr>\n",
       "  </tbody>\n",
       "</table>\n",
       "</div>"
      ],
      "text/plain": [
       "   language_id      name\n",
       "0            1   English\n",
       "1            2   Italian\n",
       "2            3  Japanese\n",
       "3            4  Mandarin\n",
       "4            5    French\n",
       "5            6    German"
      ]
     },
     "execution_count": 46,
     "metadata": {},
     "output_type": "execute_result"
    }
   ],
   "source": [
    "lengua.head(10)"
   ]
  },
  {
   "cell_type": "code",
   "execution_count": 47,
   "id": "af189fbc",
   "metadata": {},
   "outputs": [
    {
     "name": "stdout",
     "output_type": "stream",
     "text": [
      "<class 'pandas.core.frame.DataFrame'>\n",
      "RangeIndex: 6 entries, 0 to 5\n",
      "Data columns (total 2 columns):\n",
      " #   Column       Non-Null Count  Dtype   \n",
      "---  ------       --------------  -----   \n",
      " 0   language_id  6 non-null      int8    \n",
      " 1   name         6 non-null      category\n",
      "dtypes: category(1), int8(1)\n",
      "memory usage: 696.0 bytes\n"
     ]
    }
   ],
   "source": [
    "# cambiamos el Dtype de cada columna para optimizar la memoria.\n",
    "\n",
    "for c in lengua.select_dtypes(include='object'):\n",
    "    \n",
    "    lengua[c] = lengua[c].astype('category') \n",
    "    \n",
    "    \n",
    "for c in lengua.select_dtypes(include='integer'):\n",
    "    \n",
    "    lengua[c]=pd.to_numeric(lengua[c], downcast='integer')\n",
    "    \n",
    "\n",
    "lengua.info(memory_usage='deep') # Verificamos la informacion general del DF.\n",
    "                                 # Tamañano del DF(6 filas/3 columnas)"
   ]
  },
  {
   "cell_type": "markdown",
   "id": "c6455b44",
   "metadata": {},
   "source": [
    "## Old_HDD.csv"
   ]
  },
  {
   "cell_type": "code",
   "execution_count": 17,
   "id": "b621e6a2",
   "metadata": {},
   "outputs": [],
   "source": [
    "old = pd.read_csv('C:/ironhack/w3-project_SQL/data/data_sucio/old_HDD.csv', encoding = 'latin1') # Cargamos el csv old_HDD"
   ]
  },
  {
   "cell_type": "code",
   "execution_count": 49,
   "id": "45957b8f",
   "metadata": {},
   "outputs": [
    {
     "name": "stdout",
     "output_type": "stream",
     "text": [
      "<class 'pandas.core.frame.DataFrame'>\n",
      "RangeIndex: 1000 entries, 0 to 999\n",
      "Data columns (total 6 columns):\n",
      " #   Column        Non-Null Count  Dtype \n",
      "---  ------        --------------  ----- \n",
      " 0   first_name    1000 non-null   object\n",
      " 1   last_name     1000 non-null   object\n",
      " 2   title         1000 non-null   object\n",
      " 3   release_year  1000 non-null   int64 \n",
      " 4   category_id   1000 non-null   int64 \n",
      " 5   old_id        1000 non-null   int64 \n",
      "dtypes: int64(3), object(3)\n",
      "memory usage: 215.4 KB\n"
     ]
    }
   ],
   "source": [
    "old.info(memory_usage='deep') # Verificamos la informacion general del DF.\n",
    "                              # Tamañano del DF(1000 filas/5 columnas)"
   ]
  },
  {
   "cell_type": "code",
   "execution_count": 50,
   "id": "2008f175",
   "metadata": {},
   "outputs": [
    {
     "data": {
      "text/html": [
       "<div>\n",
       "<style scoped>\n",
       "    .dataframe tbody tr th:only-of-type {\n",
       "        vertical-align: middle;\n",
       "    }\n",
       "\n",
       "    .dataframe tbody tr th {\n",
       "        vertical-align: top;\n",
       "    }\n",
       "\n",
       "    .dataframe thead th {\n",
       "        text-align: right;\n",
       "    }\n",
       "</style>\n",
       "<table border=\"1\" class=\"dataframe\">\n",
       "  <thead>\n",
       "    <tr style=\"text-align: right;\">\n",
       "      <th></th>\n",
       "      <th>first_name</th>\n",
       "      <th>last_name</th>\n",
       "      <th>title</th>\n",
       "      <th>release_year</th>\n",
       "      <th>category_id</th>\n",
       "      <th>old_id</th>\n",
       "    </tr>\n",
       "  </thead>\n",
       "  <tbody>\n",
       "    <tr>\n",
       "      <th>0</th>\n",
       "      <td>Penelope</td>\n",
       "      <td>Guiness</td>\n",
       "      <td>Academy dinosaur</td>\n",
       "      <td>2006</td>\n",
       "      <td>6</td>\n",
       "      <td>0</td>\n",
       "    </tr>\n",
       "    <tr>\n",
       "      <th>1</th>\n",
       "      <td>Penelope</td>\n",
       "      <td>Guiness</td>\n",
       "      <td>Anaconda confessions</td>\n",
       "      <td>2006</td>\n",
       "      <td>2</td>\n",
       "      <td>1</td>\n",
       "    </tr>\n",
       "    <tr>\n",
       "      <th>2</th>\n",
       "      <td>Penelope</td>\n",
       "      <td>Guiness</td>\n",
       "      <td>Angels life</td>\n",
       "      <td>2006</td>\n",
       "      <td>13</td>\n",
       "      <td>2</td>\n",
       "    </tr>\n",
       "  </tbody>\n",
       "</table>\n",
       "</div>"
      ],
      "text/plain": [
       "  first_name last_name                 title  release_year  category_id  \\\n",
       "0   Penelope   Guiness      Academy dinosaur          2006            6   \n",
       "1   Penelope   Guiness  Anaconda confessions          2006            2   \n",
       "2   Penelope   Guiness           Angels life          2006           13   \n",
       "\n",
       "   old_id  \n",
       "0       0  \n",
       "1       1  \n",
       "2       2  "
      ]
     },
     "execution_count": 50,
     "metadata": {},
     "output_type": "execute_result"
    }
   ],
   "source": [
    "old.head(3)"
   ]
  },
  {
   "cell_type": "code",
   "execution_count": 51,
   "id": "90eb6d4f",
   "metadata": {},
   "outputs": [],
   "source": [
    "old[['first_name', 'last_name', 'title']] = old[['first_name', 'last_name', 'title']].apply(lambda x: x.str.capitalize())\n",
    "# Capitalizamos las columnas nombre,apellido y titulo."
   ]
  },
  {
   "cell_type": "code",
   "execution_count": 52,
   "id": "9ea2b762",
   "metadata": {},
   "outputs": [
    {
     "data": {
      "text/html": [
       "<div>\n",
       "<style scoped>\n",
       "    .dataframe tbody tr th:only-of-type {\n",
       "        vertical-align: middle;\n",
       "    }\n",
       "\n",
       "    .dataframe tbody tr th {\n",
       "        vertical-align: top;\n",
       "    }\n",
       "\n",
       "    .dataframe thead th {\n",
       "        text-align: right;\n",
       "    }\n",
       "</style>\n",
       "<table border=\"1\" class=\"dataframe\">\n",
       "  <thead>\n",
       "    <tr style=\"text-align: right;\">\n",
       "      <th></th>\n",
       "      <th>first_name</th>\n",
       "      <th>last_name</th>\n",
       "      <th>title</th>\n",
       "      <th>release_year</th>\n",
       "      <th>category_id</th>\n",
       "      <th>old_id</th>\n",
       "    </tr>\n",
       "  </thead>\n",
       "  <tbody>\n",
       "    <tr>\n",
       "      <th>0</th>\n",
       "      <td>Penelope</td>\n",
       "      <td>Guiness</td>\n",
       "      <td>Academy dinosaur</td>\n",
       "      <td>2006</td>\n",
       "      <td>6</td>\n",
       "      <td>0</td>\n",
       "    </tr>\n",
       "    <tr>\n",
       "      <th>1</th>\n",
       "      <td>Penelope</td>\n",
       "      <td>Guiness</td>\n",
       "      <td>Anaconda confessions</td>\n",
       "      <td>2006</td>\n",
       "      <td>2</td>\n",
       "      <td>1</td>\n",
       "    </tr>\n",
       "    <tr>\n",
       "      <th>2</th>\n",
       "      <td>Penelope</td>\n",
       "      <td>Guiness</td>\n",
       "      <td>Angels life</td>\n",
       "      <td>2006</td>\n",
       "      <td>13</td>\n",
       "      <td>2</td>\n",
       "    </tr>\n",
       "    <tr>\n",
       "      <th>3</th>\n",
       "      <td>Penelope</td>\n",
       "      <td>Guiness</td>\n",
       "      <td>Bulworth commandments</td>\n",
       "      <td>2006</td>\n",
       "      <td>10</td>\n",
       "      <td>3</td>\n",
       "    </tr>\n",
       "    <tr>\n",
       "      <th>4</th>\n",
       "      <td>Penelope</td>\n",
       "      <td>Guiness</td>\n",
       "      <td>Cheaper clyde</td>\n",
       "      <td>2006</td>\n",
       "      <td>14</td>\n",
       "      <td>4</td>\n",
       "    </tr>\n",
       "  </tbody>\n",
       "</table>\n",
       "</div>"
      ],
      "text/plain": [
       "  first_name last_name                  title  release_year  category_id  \\\n",
       "0   Penelope   Guiness       Academy dinosaur          2006            6   \n",
       "1   Penelope   Guiness   Anaconda confessions          2006            2   \n",
       "2   Penelope   Guiness            Angels life          2006           13   \n",
       "3   Penelope   Guiness  Bulworth commandments          2006           10   \n",
       "4   Penelope   Guiness          Cheaper clyde          2006           14   \n",
       "\n",
       "   old_id  \n",
       "0       0  \n",
       "1       1  \n",
       "2       2  \n",
       "3       3  \n",
       "4       4  "
      ]
     },
     "execution_count": 52,
     "metadata": {},
     "output_type": "execute_result"
    }
   ],
   "source": [
    "old.head()"
   ]
  },
  {
   "cell_type": "code",
   "execution_count": 53,
   "id": "672be1db",
   "metadata": {},
   "outputs": [],
   "source": [
    "old['old_id'] = range(len(old))"
   ]
  },
  {
   "cell_type": "code",
   "execution_count": 54,
   "id": "0be9ffb6",
   "metadata": {},
   "outputs": [
    {
     "data": {
      "text/plain": [
       "array([False])"
      ]
     },
     "execution_count": 54,
     "metadata": {},
     "output_type": "execute_result"
    }
   ],
   "source": [
    "old.duplicated(['first_name','last_name','title']).unique() # Verificamos filas duplicadas."
   ]
  },
  {
   "cell_type": "code",
   "execution_count": 74,
   "id": "8b1e1b1e",
   "metadata": {},
   "outputs": [
    {
     "name": "stdout",
     "output_type": "stream",
     "text": [
      "<class 'pandas.core.frame.DataFrame'>\n",
      "RangeIndex: 1000 entries, 0 to 999\n",
      "Data columns (total 6 columns):\n",
      " #   Column        Non-Null Count  Dtype   \n",
      "---  ------        --------------  -----   \n",
      " 0   first_name    1000 non-null   category\n",
      " 1   last_name     1000 non-null   category\n",
      " 2   title         1000 non-null   category\n",
      " 3   release_year  1000 non-null   int16   \n",
      " 4   category_id   1000 non-null   int8    \n",
      " 5   old_id        1000 non-null   int16   \n",
      "dtypes: category(3), int16(2), int8(1)\n",
      "memory usage: 74.5 KB\n"
     ]
    }
   ],
   "source": [
    "# cambiamos el Dtype de cada columna para optimizar la memoria.\n",
    "\n",
    "for c in old.select_dtypes(include='object'):\n",
    "    \n",
    "    old[c] = old[c].astype('category') \n",
    "    \n",
    "    \n",
    "for c in old.select_dtypes(include='integer'):\n",
    "    \n",
    "    old[c]=pd.to_numeric(old[c], downcast='integer')\n",
    "    \n",
    "\n",
    "old.info(memory_usage='deep')# Verificamos la informacion general del DF.\n",
    "                             # Tamañano del DF(1000 filas/5 columnas)"
   ]
  },
  {
   "cell_type": "markdown",
   "id": "404a6ecf",
   "metadata": {},
   "source": [
    "## Rental.csv"
   ]
  },
  {
   "cell_type": "code",
   "execution_count": 18,
   "id": "aba17a56",
   "metadata": {},
   "outputs": [],
   "source": [
    "rental = pd.read_csv('C:/ironhack/w3-project_SQL/data/data_sucio/rental.csv',encoding='latin1')"
   ]
  },
  {
   "cell_type": "code",
   "execution_count": 57,
   "id": "08e3c19d",
   "metadata": {},
   "outputs": [
    {
     "data": {
      "text/html": [
       "<div>\n",
       "<style scoped>\n",
       "    .dataframe tbody tr th:only-of-type {\n",
       "        vertical-align: middle;\n",
       "    }\n",
       "\n",
       "    .dataframe tbody tr th {\n",
       "        vertical-align: top;\n",
       "    }\n",
       "\n",
       "    .dataframe thead th {\n",
       "        text-align: right;\n",
       "    }\n",
       "</style>\n",
       "<table border=\"1\" class=\"dataframe\">\n",
       "  <thead>\n",
       "    <tr style=\"text-align: right;\">\n",
       "      <th></th>\n",
       "      <th>rental_id</th>\n",
       "      <th>rental_date</th>\n",
       "      <th>inventory_id</th>\n",
       "      <th>customer_id</th>\n",
       "      <th>return_date</th>\n",
       "      <th>staff_id</th>\n",
       "      <th>last_update</th>\n",
       "    </tr>\n",
       "  </thead>\n",
       "  <tbody>\n",
       "    <tr>\n",
       "      <th>0</th>\n",
       "      <td>1</td>\n",
       "      <td>2005-05-24 22:53:30</td>\n",
       "      <td>367</td>\n",
       "      <td>130</td>\n",
       "      <td>2005-05-26 22:04:30</td>\n",
       "      <td>1</td>\n",
       "      <td>2006-02-15 21:30:53</td>\n",
       "    </tr>\n",
       "    <tr>\n",
       "      <th>1</th>\n",
       "      <td>2</td>\n",
       "      <td>2005-05-24 22:54:33</td>\n",
       "      <td>1525</td>\n",
       "      <td>459</td>\n",
       "      <td>2005-05-28 19:40:33</td>\n",
       "      <td>1</td>\n",
       "      <td>2006-02-15 21:30:53</td>\n",
       "    </tr>\n",
       "    <tr>\n",
       "      <th>2</th>\n",
       "      <td>3</td>\n",
       "      <td>2005-05-24 23:03:39</td>\n",
       "      <td>1711</td>\n",
       "      <td>408</td>\n",
       "      <td>2005-06-01 22:12:39</td>\n",
       "      <td>1</td>\n",
       "      <td>2006-02-15 21:30:53</td>\n",
       "    </tr>\n",
       "  </tbody>\n",
       "</table>\n",
       "</div>"
      ],
      "text/plain": [
       "   rental_id          rental_date  inventory_id  customer_id  \\\n",
       "0          1  2005-05-24 22:53:30           367          130   \n",
       "1          2  2005-05-24 22:54:33          1525          459   \n",
       "2          3  2005-05-24 23:03:39          1711          408   \n",
       "\n",
       "           return_date  staff_id          last_update  \n",
       "0  2005-05-26 22:04:30         1  2006-02-15 21:30:53  \n",
       "1  2005-05-28 19:40:33         1  2006-02-15 21:30:53  \n",
       "2  2005-06-01 22:12:39         1  2006-02-15 21:30:53  "
      ]
     },
     "execution_count": 57,
     "metadata": {},
     "output_type": "execute_result"
    }
   ],
   "source": [
    "rental.head(3)"
   ]
  },
  {
   "cell_type": "code",
   "execution_count": 58,
   "id": "944aaf77",
   "metadata": {},
   "outputs": [
    {
     "data": {
      "text/plain": [
       "array([1, 2], dtype=int64)"
      ]
     },
     "execution_count": 58,
     "metadata": {},
     "output_type": "execute_result"
    }
   ],
   "source": [
    "(rental.staff_id).unique()"
   ]
  },
  {
   "cell_type": "code",
   "execution_count": 59,
   "id": "fff4434a",
   "metadata": {},
   "outputs": [
    {
     "name": "stdout",
     "output_type": "stream",
     "text": [
      "<class 'pandas.core.frame.DataFrame'>\n",
      "RangeIndex: 1000 entries, 0 to 999\n",
      "Data columns (total 7 columns):\n",
      " #   Column        Non-Null Count  Dtype \n",
      "---  ------        --------------  ----- \n",
      " 0   rental_id     1000 non-null   int64 \n",
      " 1   rental_date   1000 non-null   object\n",
      " 2   inventory_id  1000 non-null   int64 \n",
      " 3   customer_id   1000 non-null   int64 \n",
      " 4   return_date   1000 non-null   object\n",
      " 5   staff_id      1000 non-null   int64 \n",
      " 6   last_update   1000 non-null   object\n",
      "dtypes: int64(4), object(3)\n",
      "memory usage: 254.0 KB\n"
     ]
    }
   ],
   "source": [
    "rental.info(memory_usage='deep') # Verificamos la informacion general del DF.\n",
    "                                 # Tamañano del DF(1000 filas/7 columnas)"
   ]
  },
  {
   "cell_type": "code",
   "execution_count": 60,
   "id": "85784fc9",
   "metadata": {},
   "outputs": [
    {
     "data": {
      "text/plain": [
       "array([False])"
      ]
     },
     "execution_count": 60,
     "metadata": {},
     "output_type": "execute_result"
    }
   ],
   "source": [
    "rental.duplicated(['rental_date','inventory_id','customer_id','return_date','staff_id']).unique() \n",
    "# verificamos filas duplicadas."
   ]
  },
  {
   "cell_type": "code",
   "execution_count": 61,
   "id": "f69c6800",
   "metadata": {},
   "outputs": [
    {
     "name": "stdout",
     "output_type": "stream",
     "text": [
      "<class 'pandas.core.frame.DataFrame'>\n",
      "RangeIndex: 1000 entries, 0 to 999\n",
      "Data columns (total 7 columns):\n",
      " #   Column        Non-Null Count  Dtype   \n",
      "---  ------        --------------  -----   \n",
      " 0   rental_id     1000 non-null   int16   \n",
      " 1   rental_date   1000 non-null   category\n",
      " 2   inventory_id  1000 non-null   int16   \n",
      " 3   customer_id   1000 non-null   int16   \n",
      " 4   return_date   1000 non-null   category\n",
      " 5   staff_id      1000 non-null   int8    \n",
      " 6   last_update   1000 non-null   category\n",
      "dtypes: category(3), int16(3), int8(1)\n",
      "memory usage: 224.7 KB\n"
     ]
    }
   ],
   "source": [
    "# cambiamos el Dtype de cada columna para optimizar la memoria.\n",
    "\n",
    "for c in rental.select_dtypes(include='object'):\n",
    "    \n",
    "    rental[c] = rental[c].astype('category') \n",
    "    \n",
    "    \n",
    "for c in rental.select_dtypes(include='integer'):\n",
    "    \n",
    "    rental[c]=pd.to_numeric(rental[c], downcast='integer')\n",
    "    \n",
    "\n",
    "rental.info(memory_usage='deep')"
   ]
  },
  {
   "cell_type": "markdown",
   "id": "b5f299c0",
   "metadata": {},
   "source": [
    "# Clientes"
   ]
  },
  {
   "cell_type": "code",
   "execution_count": 113,
   "id": "39690b89",
   "metadata": {},
   "outputs": [],
   "source": [
    "# por necesidad del negocio vamos a crear un nuevo archivo con mil clientes imaginarios.\n",
    "\n",
    "customers = {\n",
    "    'customer_id': list(range(1000)),  # Corrección aquí\n",
    "    'nombre': [fake.first_name() for _ in range(1000)],\n",
    "    'apellido': [fake.last_name() for _ in range(1000)],\n",
    "    'direccion': [fake.address() for _ in range(1000)],\n",
    "    'correo_electronico': [fake.email() for _ in range(1000)]}"
   ]
  },
  {
   "cell_type": "code",
   "execution_count": 114,
   "id": "52313b22",
   "metadata": {},
   "outputs": [],
   "source": [
    "customer = pd.DataFrame(customers) # lo convertimos en dataframe"
   ]
  },
  {
   "cell_type": "code",
   "execution_count": 115,
   "id": "23ece107",
   "metadata": {},
   "outputs": [
    {
     "data": {
      "text/html": [
       "<div>\n",
       "<style scoped>\n",
       "    .dataframe tbody tr th:only-of-type {\n",
       "        vertical-align: middle;\n",
       "    }\n",
       "\n",
       "    .dataframe tbody tr th {\n",
       "        vertical-align: top;\n",
       "    }\n",
       "\n",
       "    .dataframe thead th {\n",
       "        text-align: right;\n",
       "    }\n",
       "</style>\n",
       "<table border=\"1\" class=\"dataframe\">\n",
       "  <thead>\n",
       "    <tr style=\"text-align: right;\">\n",
       "      <th></th>\n",
       "      <th>customer_id</th>\n",
       "      <th>nombre</th>\n",
       "      <th>apellido</th>\n",
       "      <th>direccion</th>\n",
       "      <th>correo_electronico</th>\n",
       "    </tr>\n",
       "  </thead>\n",
       "  <tbody>\n",
       "    <tr>\n",
       "      <th>0</th>\n",
       "      <td>0</td>\n",
       "      <td>Kari</td>\n",
       "      <td>Velazquez</td>\n",
       "      <td>130 Janet Mills\\nCarrieview, OH 91585</td>\n",
       "      <td>albertmiles@example.com</td>\n",
       "    </tr>\n",
       "    <tr>\n",
       "      <th>1</th>\n",
       "      <td>1</td>\n",
       "      <td>William</td>\n",
       "      <td>Edwards</td>\n",
       "      <td>673 Lewis Valley\\nTravisland, UT 82483</td>\n",
       "      <td>colton01@example.org</td>\n",
       "    </tr>\n",
       "    <tr>\n",
       "      <th>2</th>\n",
       "      <td>2</td>\n",
       "      <td>Chelsea</td>\n",
       "      <td>Hanson</td>\n",
       "      <td>4238 Weiss Curve Apt. 427\\nCraigville, PR 23062</td>\n",
       "      <td>michaelzavala@example.com</td>\n",
       "    </tr>\n",
       "    <tr>\n",
       "      <th>3</th>\n",
       "      <td>3</td>\n",
       "      <td>Amber</td>\n",
       "      <td>Brown</td>\n",
       "      <td>7802 Amanda Hill\\nHollyview, WI 59262</td>\n",
       "      <td>christine25@example.com</td>\n",
       "    </tr>\n",
       "    <tr>\n",
       "      <th>4</th>\n",
       "      <td>4</td>\n",
       "      <td>Roger</td>\n",
       "      <td>Petersen</td>\n",
       "      <td>42672 Christopher Via\\nSouth Jessica, KY 17093</td>\n",
       "      <td>daycheyenne@example.com</td>\n",
       "    </tr>\n",
       "    <tr>\n",
       "      <th>...</th>\n",
       "      <td>...</td>\n",
       "      <td>...</td>\n",
       "      <td>...</td>\n",
       "      <td>...</td>\n",
       "      <td>...</td>\n",
       "    </tr>\n",
       "    <tr>\n",
       "      <th>995</th>\n",
       "      <td>995</td>\n",
       "      <td>Carl</td>\n",
       "      <td>Villanueva</td>\n",
       "      <td>Unit 8405 Box 3160\\nDPO AP 72827</td>\n",
       "      <td>collinsjerome@example.net</td>\n",
       "    </tr>\n",
       "    <tr>\n",
       "      <th>996</th>\n",
       "      <td>996</td>\n",
       "      <td>Edward</td>\n",
       "      <td>Dunn</td>\n",
       "      <td>Unit 8973 Box 4122\\nDPO AE 44848</td>\n",
       "      <td>tracylogan@example.net</td>\n",
       "    </tr>\n",
       "    <tr>\n",
       "      <th>997</th>\n",
       "      <td>997</td>\n",
       "      <td>Scott</td>\n",
       "      <td>Salinas</td>\n",
       "      <td>58348 Black Course Apt. 210\\nSouth Andrew, PR ...</td>\n",
       "      <td>probinson@example.com</td>\n",
       "    </tr>\n",
       "    <tr>\n",
       "      <th>998</th>\n",
       "      <td>998</td>\n",
       "      <td>Noah</td>\n",
       "      <td>Lopez</td>\n",
       "      <td>PSC 9675, Box 4576\\nAPO AP 27345</td>\n",
       "      <td>williamsonashley@example.org</td>\n",
       "    </tr>\n",
       "    <tr>\n",
       "      <th>999</th>\n",
       "      <td>999</td>\n",
       "      <td>Charles</td>\n",
       "      <td>Russell</td>\n",
       "      <td>6167 Byrd Trafficway Apt. 724\\nRobinsonmouth, ...</td>\n",
       "      <td>laura48@example.net</td>\n",
       "    </tr>\n",
       "  </tbody>\n",
       "</table>\n",
       "<p>1000 rows × 5 columns</p>\n",
       "</div>"
      ],
      "text/plain": [
       "     customer_id   nombre    apellido  \\\n",
       "0              0     Kari   Velazquez   \n",
       "1              1  William     Edwards   \n",
       "2              2  Chelsea      Hanson   \n",
       "3              3    Amber       Brown   \n",
       "4              4    Roger    Petersen   \n",
       "..           ...      ...         ...   \n",
       "995          995     Carl  Villanueva   \n",
       "996          996   Edward        Dunn   \n",
       "997          997    Scott     Salinas   \n",
       "998          998     Noah       Lopez   \n",
       "999          999  Charles     Russell   \n",
       "\n",
       "                                             direccion  \\\n",
       "0                130 Janet Mills\\nCarrieview, OH 91585   \n",
       "1               673 Lewis Valley\\nTravisland, UT 82483   \n",
       "2      4238 Weiss Curve Apt. 427\\nCraigville, PR 23062   \n",
       "3                7802 Amanda Hill\\nHollyview, WI 59262   \n",
       "4       42672 Christopher Via\\nSouth Jessica, KY 17093   \n",
       "..                                                 ...   \n",
       "995                   Unit 8405 Box 3160\\nDPO AP 72827   \n",
       "996                   Unit 8973 Box 4122\\nDPO AE 44848   \n",
       "997  58348 Black Course Apt. 210\\nSouth Andrew, PR ...   \n",
       "998                   PSC 9675, Box 4576\\nAPO AP 27345   \n",
       "999  6167 Byrd Trafficway Apt. 724\\nRobinsonmouth, ...   \n",
       "\n",
       "               correo_electronico  \n",
       "0         albertmiles@example.com  \n",
       "1            colton01@example.org  \n",
       "2       michaelzavala@example.com  \n",
       "3         christine25@example.com  \n",
       "4         daycheyenne@example.com  \n",
       "..                            ...  \n",
       "995     collinsjerome@example.net  \n",
       "996        tracylogan@example.net  \n",
       "997         probinson@example.com  \n",
       "998  williamsonashley@example.org  \n",
       "999           laura48@example.net  \n",
       "\n",
       "[1000 rows x 5 columns]"
      ]
     },
     "execution_count": 115,
     "metadata": {},
     "output_type": "execute_result"
    }
   ],
   "source": [
    "customer"
   ]
  },
  {
   "cell_type": "code",
   "execution_count": 72,
   "id": "1c31649f",
   "metadata": {},
   "outputs": [
    {
     "name": "stdout",
     "output_type": "stream",
     "text": [
      "<class 'pandas.core.frame.DataFrame'>\n",
      "RangeIndex: 1000 entries, 0 to 999\n",
      "Data columns (total 4 columns):\n",
      " #   Column              Non-Null Count  Dtype \n",
      "---  ------              --------------  ----- \n",
      " 0   nombre              1000 non-null   object\n",
      " 1   apellido            1000 non-null   object\n",
      " 2   direccion           1000 non-null   object\n",
      " 3   correo_electronico  1000 non-null   object\n",
      "dtypes: object(4)\n",
      "memory usage: 31.4+ KB\n"
     ]
    }
   ],
   "source": [
    "customer.info()"
   ]
  },
  {
   "cell_type": "code",
   "execution_count": 71,
   "id": "5d3b4ae9",
   "metadata": {},
   "outputs": [
    {
     "data": {
      "text/plain": [
       "array([False])"
      ]
     },
     "execution_count": 71,
     "metadata": {},
     "output_type": "execute_result"
    }
   ],
   "source": [
    "\n",
    "# Aun que sea creado de una libreria revisamos si hay duplicados.\n",
    "customer.duplicated(['nombre','apellido','direccion','correo_electronico']).unique() \n",
    "                                                                                "
   ]
  },
  {
   "cell_type": "markdown",
   "id": "d3a15f14",
   "metadata": {},
   "source": [
    "#  Vamos a crear una plantilla de empleados"
   ]
  },
  {
   "cell_type": "code",
   "execution_count": 20,
   "id": "33e9d16b",
   "metadata": {},
   "outputs": [],
   "source": [
    "# por necesidad del negocio vamos a crear un nuevo archivo con empleados\n",
    "\n",
    "employee = {\n",
    "    'staff_id': list(range(1,11)),  # Corrección aquí\n",
    "    'nombre': [fake.first_name() for _ in range(10)],\n",
    "    'apellido': [fake.last_name() for _ in range(10)],\n",
    "    'direccion': [fake.address() for _ in range(10)],\n",
    "    'correo_electronico': [fake.email() for _ in range(10)]}"
   ]
  },
  {
   "cell_type": "code",
   "execution_count": 22,
   "id": "4ab009cd",
   "metadata": {},
   "outputs": [],
   "source": [
    "employee = pd.DataFrame(employee)"
   ]
  },
  {
   "cell_type": "code",
   "execution_count": 23,
   "id": "747f31e3",
   "metadata": {},
   "outputs": [
    {
     "data": {
      "text/html": [
       "<div>\n",
       "<style scoped>\n",
       "    .dataframe tbody tr th:only-of-type {\n",
       "        vertical-align: middle;\n",
       "    }\n",
       "\n",
       "    .dataframe tbody tr th {\n",
       "        vertical-align: top;\n",
       "    }\n",
       "\n",
       "    .dataframe thead th {\n",
       "        text-align: right;\n",
       "    }\n",
       "</style>\n",
       "<table border=\"1\" class=\"dataframe\">\n",
       "  <thead>\n",
       "    <tr style=\"text-align: right;\">\n",
       "      <th></th>\n",
       "      <th>staff_id</th>\n",
       "      <th>nombre</th>\n",
       "      <th>apellido</th>\n",
       "      <th>direccion</th>\n",
       "      <th>correo_electronico</th>\n",
       "    </tr>\n",
       "  </thead>\n",
       "  <tbody>\n",
       "    <tr>\n",
       "      <th>0</th>\n",
       "      <td>1</td>\n",
       "      <td>James</td>\n",
       "      <td>Smith</td>\n",
       "      <td>08203 Robert Rest Apt. 563\\nEast Juliemouth, V...</td>\n",
       "      <td>cynthia05@example.net</td>\n",
       "    </tr>\n",
       "    <tr>\n",
       "      <th>1</th>\n",
       "      <td>2</td>\n",
       "      <td>Kimberly</td>\n",
       "      <td>Randall</td>\n",
       "      <td>2177 Daniels Mountains Apt. 136\\nWest Morganto...</td>\n",
       "      <td>cookcameron@example.net</td>\n",
       "    </tr>\n",
       "    <tr>\n",
       "      <th>2</th>\n",
       "      <td>3</td>\n",
       "      <td>Jennifer</td>\n",
       "      <td>Herman</td>\n",
       "      <td>69606 Austin Lane\\nLake Donald, AS 40817</td>\n",
       "      <td>hwilliams@example.org</td>\n",
       "    </tr>\n",
       "    <tr>\n",
       "      <th>3</th>\n",
       "      <td>4</td>\n",
       "      <td>David</td>\n",
       "      <td>Barnett</td>\n",
       "      <td>5828 Johnson Cliffs Suite 255\\nSouth Seanport,...</td>\n",
       "      <td>austinwendy@example.com</td>\n",
       "    </tr>\n",
       "    <tr>\n",
       "      <th>4</th>\n",
       "      <td>5</td>\n",
       "      <td>Matthew</td>\n",
       "      <td>Gutierrez</td>\n",
       "      <td>9522 Evan Port\\nRogersside, SD 45683</td>\n",
       "      <td>wnguyen@example.net</td>\n",
       "    </tr>\n",
       "    <tr>\n",
       "      <th>5</th>\n",
       "      <td>6</td>\n",
       "      <td>Luke</td>\n",
       "      <td>Malone</td>\n",
       "      <td>03832 Cummings Path\\nPort William, VT 55175</td>\n",
       "      <td>robert40@example.net</td>\n",
       "    </tr>\n",
       "    <tr>\n",
       "      <th>6</th>\n",
       "      <td>7</td>\n",
       "      <td>Jamie</td>\n",
       "      <td>Morris</td>\n",
       "      <td>534 Mary Extension\\nNew Abigailmouth, IN 57537</td>\n",
       "      <td>geraldvalencia@example.com</td>\n",
       "    </tr>\n",
       "    <tr>\n",
       "      <th>7</th>\n",
       "      <td>8</td>\n",
       "      <td>Melissa</td>\n",
       "      <td>Mclaughlin</td>\n",
       "      <td>5224 Jill Plain\\nFowlerhaven, DE 05265</td>\n",
       "      <td>egeorge@example.com</td>\n",
       "    </tr>\n",
       "    <tr>\n",
       "      <th>8</th>\n",
       "      <td>9</td>\n",
       "      <td>Gina</td>\n",
       "      <td>Curry</td>\n",
       "      <td>15092 Keith Ferry\\nLake Stephenshire, MT 00993</td>\n",
       "      <td>amber98@example.org</td>\n",
       "    </tr>\n",
       "    <tr>\n",
       "      <th>9</th>\n",
       "      <td>10</td>\n",
       "      <td>Amanda</td>\n",
       "      <td>Stanley</td>\n",
       "      <td>526 Haynes Wall Apt. 455\\nSouth John, OR 82694</td>\n",
       "      <td>yualvin@example.org</td>\n",
       "    </tr>\n",
       "  </tbody>\n",
       "</table>\n",
       "</div>"
      ],
      "text/plain": [
       "   staff_id    nombre    apellido  \\\n",
       "0         1     James       Smith   \n",
       "1         2  Kimberly     Randall   \n",
       "2         3  Jennifer      Herman   \n",
       "3         4     David     Barnett   \n",
       "4         5   Matthew   Gutierrez   \n",
       "5         6      Luke      Malone   \n",
       "6         7     Jamie      Morris   \n",
       "7         8   Melissa  Mclaughlin   \n",
       "8         9      Gina       Curry   \n",
       "9        10    Amanda     Stanley   \n",
       "\n",
       "                                           direccion  \\\n",
       "0  08203 Robert Rest Apt. 563\\nEast Juliemouth, V...   \n",
       "1  2177 Daniels Mountains Apt. 136\\nWest Morganto...   \n",
       "2           69606 Austin Lane\\nLake Donald, AS 40817   \n",
       "3  5828 Johnson Cliffs Suite 255\\nSouth Seanport,...   \n",
       "4               9522 Evan Port\\nRogersside, SD 45683   \n",
       "5        03832 Cummings Path\\nPort William, VT 55175   \n",
       "6     534 Mary Extension\\nNew Abigailmouth, IN 57537   \n",
       "7             5224 Jill Plain\\nFowlerhaven, DE 05265   \n",
       "8     15092 Keith Ferry\\nLake Stephenshire, MT 00993   \n",
       "9     526 Haynes Wall Apt. 455\\nSouth John, OR 82694   \n",
       "\n",
       "           correo_electronico  \n",
       "0       cynthia05@example.net  \n",
       "1     cookcameron@example.net  \n",
       "2       hwilliams@example.org  \n",
       "3     austinwendy@example.com  \n",
       "4         wnguyen@example.net  \n",
       "5        robert40@example.net  \n",
       "6  geraldvalencia@example.com  \n",
       "7         egeorge@example.com  \n",
       "8         amber98@example.org  \n",
       "9         yualvin@example.org  "
      ]
     },
     "execution_count": 23,
     "metadata": {},
     "output_type": "execute_result"
    }
   ],
   "source": [
    "employee"
   ]
  },
  {
   "cell_type": "code",
   "execution_count": 24,
   "id": "fe756618",
   "metadata": {},
   "outputs": [],
   "source": [
    "employee.to_csv('C:/ironhack/w3-project_SQL/data/data_sucio/staff.csv', index=False)"
   ]
  },
  {
   "cell_type": "markdown",
   "id": "46ba5a34",
   "metadata": {},
   "source": [
    "# Exportación"
   ]
  },
  {
   "cell_type": "code",
   "execution_count": 82,
   "id": "8d2045b5",
   "metadata": {},
   "outputs": [],
   "source": [
    "#exportamos los csv limpios.\n",
    "\n",
    "\n",
    "categoria.to_csv('data/Data_Clean\\category_clean.csv', index=False)\n",
    "peli.to_csv('data/Data_Clean\\film_clean.csv', index=False)\n",
    "actores.to_csv('data/Data_Clean\\actor_clean.csv', index=False)\n",
    "lengua.to_csv('data/Data_Clean\\language_clean.csv', index=False)\n",
    "rental.to_csv('data/Data_Clean\\rental_clean.csv', index=False)\n",
    "customer.to_csv('data/Data_Clean\\customer_clean.csv', index=False)\n",
    "old.to_csv('data/Data_Clean\\old_hdd_clean.csv', index=False)\n",
    "inventario.to_csv('data/Data_Clean\\inventory_clean.csv', index=False)\n",
    "employee.to_csv('data/Data_Clean\\staff_clean.csv', index=False)"
   ]
  }
 ],
 "metadata": {
  "kernelspec": {
   "display_name": "Python 3 (ipykernel)",
   "language": "python",
   "name": "python3"
  },
  "language_info": {
   "codemirror_mode": {
    "name": "ipython",
    "version": 3
   },
   "file_extension": ".py",
   "mimetype": "text/x-python",
   "name": "python",
   "nbconvert_exporter": "python",
   "pygments_lexer": "ipython3",
   "version": "3.10.13"
  }
 },
 "nbformat": 4,
 "nbformat_minor": 5
}
